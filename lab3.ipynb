{
 "cells": [
  {
   "cell_type": "markdown",
   "metadata": {},
   "source": [
    "CSE 5243\n",
    "# Lab 3: Comparing Classifiers\n",
    "Mar. 7th, 2018\n",
    "\n",
    "## 1. Preliminary data analysis"
   ]
  },
  {
   "cell_type": "code",
   "execution_count": 2,
   "metadata": {},
   "outputs": [],
   "source": [
    "import pandas as pd\n",
    "import numpy as np\n",
    "from scipy import stats\n",
    "import matplotlib.pyplot as plt\n",
    "df=pd.read_csv(\"lab3/wine.data\", sep=',',engine='python')\n",
    "# df without Class\n",
    "wocl = df.drop('Class', axis=1)\n",
    "# df converted into Z score\n",
    "zdf=pd.DataFrame(stats.zscore(wocl),columns=wocl.columns)\n",
    "# final dataset\n",
    "fnl = zdf.drop('Total phenols', axis=1)\n",
    "# class dataset\n",
    "cla= df['Class'] "
   ]
  },
  {
   "cell_type": "markdown",
   "metadata": {},
   "source": [
    "### Dataset Description\n",
    "All entries are devided into 3 classes. Each entry has 13 attributes which are all numeric continuous attribute. Some of the attributes are highly correlated as we can see in the scatter plot.\n",
    "\n",
    "There are no duplicated entries or missing values in the wine dataset. Although, there are some entries with values greater or lesser than the mean by 3 times of the SD, we do not have enough reason to exclude them, since we do not know the natural distribution of the wine attributes."
   ]
  },
  {
   "cell_type": "code",
   "execution_count": 3,
   "metadata": {},
   "outputs": [
    {
     "data": {
      "text/html": [
       "<div>\n",
       "<style scoped>\n",
       "    .dataframe tbody tr th:only-of-type {\n",
       "        vertical-align: middle;\n",
       "    }\n",
       "\n",
       "    .dataframe tbody tr th {\n",
       "        vertical-align: top;\n",
       "    }\n",
       "\n",
       "    .dataframe thead th {\n",
       "        text-align: right;\n",
       "    }\n",
       "</style>\n",
       "<table border=\"1\" class=\"dataframe\">\n",
       "  <thead>\n",
       "    <tr style=\"text-align: right;\">\n",
       "      <th></th>\n",
       "      <th>Class</th>\n",
       "      <th>Alcohol</th>\n",
       "      <th>Malic acid</th>\n",
       "      <th>Ash</th>\n",
       "      <th>Alcalinity of ash</th>\n",
       "      <th>Magnesium</th>\n",
       "      <th>Total phenols</th>\n",
       "      <th>Flavanoids</th>\n",
       "      <th>Nonflavanoid phenols</th>\n",
       "      <th>Proanthocyanins</th>\n",
       "      <th>Color intensity</th>\n",
       "      <th>Hue</th>\n",
       "      <th>OD280/OD315 of diluted wines</th>\n",
       "      <th>Proline</th>\n",
       "    </tr>\n",
       "  </thead>\n",
       "  <tbody>\n",
       "    <tr>\n",
       "      <th>25</th>\n",
       "      <td>1</td>\n",
       "      <td>13.05</td>\n",
       "      <td>2.05</td>\n",
       "      <td>3.22</td>\n",
       "      <td>25.0</td>\n",
       "      <td>124</td>\n",
       "      <td>2.63</td>\n",
       "      <td>2.68</td>\n",
       "      <td>0.47</td>\n",
       "      <td>1.92</td>\n",
       "      <td>3.58</td>\n",
       "      <td>1.13</td>\n",
       "      <td>3.20</td>\n",
       "      <td>830</td>\n",
       "    </tr>\n",
       "    <tr>\n",
       "      <th>59</th>\n",
       "      <td>2</td>\n",
       "      <td>12.37</td>\n",
       "      <td>0.94</td>\n",
       "      <td>1.36</td>\n",
       "      <td>10.6</td>\n",
       "      <td>88</td>\n",
       "      <td>1.98</td>\n",
       "      <td>0.57</td>\n",
       "      <td>0.28</td>\n",
       "      <td>0.42</td>\n",
       "      <td>1.95</td>\n",
       "      <td>1.05</td>\n",
       "      <td>1.82</td>\n",
       "      <td>520</td>\n",
       "    </tr>\n",
       "    <tr>\n",
       "      <th>69</th>\n",
       "      <td>2</td>\n",
       "      <td>12.21</td>\n",
       "      <td>1.19</td>\n",
       "      <td>1.75</td>\n",
       "      <td>16.8</td>\n",
       "      <td>151</td>\n",
       "      <td>1.85</td>\n",
       "      <td>1.28</td>\n",
       "      <td>0.14</td>\n",
       "      <td>2.50</td>\n",
       "      <td>2.85</td>\n",
       "      <td>1.28</td>\n",
       "      <td>3.07</td>\n",
       "      <td>718</td>\n",
       "    </tr>\n",
       "    <tr>\n",
       "      <th>73</th>\n",
       "      <td>2</td>\n",
       "      <td>12.99</td>\n",
       "      <td>1.67</td>\n",
       "      <td>2.60</td>\n",
       "      <td>30.0</td>\n",
       "      <td>139</td>\n",
       "      <td>3.30</td>\n",
       "      <td>2.89</td>\n",
       "      <td>0.21</td>\n",
       "      <td>1.96</td>\n",
       "      <td>3.35</td>\n",
       "      <td>1.31</td>\n",
       "      <td>3.50</td>\n",
       "      <td>985</td>\n",
       "    </tr>\n",
       "    <tr>\n",
       "      <th>95</th>\n",
       "      <td>2</td>\n",
       "      <td>12.47</td>\n",
       "      <td>1.52</td>\n",
       "      <td>2.20</td>\n",
       "      <td>19.0</td>\n",
       "      <td>162</td>\n",
       "      <td>2.50</td>\n",
       "      <td>2.27</td>\n",
       "      <td>0.32</td>\n",
       "      <td>3.28</td>\n",
       "      <td>2.60</td>\n",
       "      <td>1.16</td>\n",
       "      <td>2.63</td>\n",
       "      <td>937</td>\n",
       "    </tr>\n",
       "    <tr>\n",
       "      <th>110</th>\n",
       "      <td>2</td>\n",
       "      <td>11.46</td>\n",
       "      <td>3.74</td>\n",
       "      <td>1.82</td>\n",
       "      <td>19.5</td>\n",
       "      <td>107</td>\n",
       "      <td>3.18</td>\n",
       "      <td>2.58</td>\n",
       "      <td>0.24</td>\n",
       "      <td>3.58</td>\n",
       "      <td>2.90</td>\n",
       "      <td>0.75</td>\n",
       "      <td>2.81</td>\n",
       "      <td>562</td>\n",
       "    </tr>\n",
       "    <tr>\n",
       "      <th>115</th>\n",
       "      <td>2</td>\n",
       "      <td>11.03</td>\n",
       "      <td>1.51</td>\n",
       "      <td>2.20</td>\n",
       "      <td>21.5</td>\n",
       "      <td>85</td>\n",
       "      <td>2.46</td>\n",
       "      <td>2.17</td>\n",
       "      <td>0.52</td>\n",
       "      <td>2.01</td>\n",
       "      <td>1.90</td>\n",
       "      <td>1.71</td>\n",
       "      <td>2.87</td>\n",
       "      <td>407</td>\n",
       "    </tr>\n",
       "    <tr>\n",
       "      <th>121</th>\n",
       "      <td>2</td>\n",
       "      <td>11.56</td>\n",
       "      <td>2.05</td>\n",
       "      <td>3.23</td>\n",
       "      <td>28.5</td>\n",
       "      <td>119</td>\n",
       "      <td>3.18</td>\n",
       "      <td>5.08</td>\n",
       "      <td>0.47</td>\n",
       "      <td>1.87</td>\n",
       "      <td>6.00</td>\n",
       "      <td>0.93</td>\n",
       "      <td>3.69</td>\n",
       "      <td>465</td>\n",
       "    </tr>\n",
       "    <tr>\n",
       "      <th>123</th>\n",
       "      <td>2</td>\n",
       "      <td>13.05</td>\n",
       "      <td>5.80</td>\n",
       "      <td>2.13</td>\n",
       "      <td>21.5</td>\n",
       "      <td>86</td>\n",
       "      <td>2.62</td>\n",
       "      <td>2.65</td>\n",
       "      <td>0.30</td>\n",
       "      <td>2.01</td>\n",
       "      <td>2.60</td>\n",
       "      <td>0.73</td>\n",
       "      <td>3.10</td>\n",
       "      <td>380</td>\n",
       "    </tr>\n",
       "    <tr>\n",
       "      <th>158</th>\n",
       "      <td>3</td>\n",
       "      <td>14.34</td>\n",
       "      <td>1.68</td>\n",
       "      <td>2.70</td>\n",
       "      <td>25.0</td>\n",
       "      <td>98</td>\n",
       "      <td>2.80</td>\n",
       "      <td>1.31</td>\n",
       "      <td>0.53</td>\n",
       "      <td>2.70</td>\n",
       "      <td>13.00</td>\n",
       "      <td>0.57</td>\n",
       "      <td>1.96</td>\n",
       "      <td>660</td>\n",
       "    </tr>\n",
       "  </tbody>\n",
       "</table>\n",
       "</div>"
      ],
      "text/plain": [
       "     Class  Alcohol  Malic acid   Ash  Alcalinity of ash  Magnesium  \\\n",
       "25       1    13.05        2.05  3.22               25.0        124   \n",
       "59       2    12.37        0.94  1.36               10.6         88   \n",
       "69       2    12.21        1.19  1.75               16.8        151   \n",
       "73       2    12.99        1.67  2.60               30.0        139   \n",
       "95       2    12.47        1.52  2.20               19.0        162   \n",
       "110      2    11.46        3.74  1.82               19.5        107   \n",
       "115      2    11.03        1.51  2.20               21.5         85   \n",
       "121      2    11.56        2.05  3.23               28.5        119   \n",
       "123      2    13.05        5.80  2.13               21.5         86   \n",
       "158      3    14.34        1.68  2.70               25.0         98   \n",
       "\n",
       "     Total phenols  Flavanoids  Nonflavanoid phenols  Proanthocyanins  \\\n",
       "25            2.63        2.68                  0.47             1.92   \n",
       "59            1.98        0.57                  0.28             0.42   \n",
       "69            1.85        1.28                  0.14             2.50   \n",
       "73            3.30        2.89                  0.21             1.96   \n",
       "95            2.50        2.27                  0.32             3.28   \n",
       "110           3.18        2.58                  0.24             3.58   \n",
       "115           2.46        2.17                  0.52             2.01   \n",
       "121           3.18        5.08                  0.47             1.87   \n",
       "123           2.62        2.65                  0.30             2.01   \n",
       "158           2.80        1.31                  0.53             2.70   \n",
       "\n",
       "     Color intensity   Hue  OD280/OD315 of diluted wines  Proline  \n",
       "25              3.58  1.13                          3.20      830  \n",
       "59              1.95  1.05                          1.82      520  \n",
       "69              2.85  1.28                          3.07      718  \n",
       "73              3.35  1.31                          3.50      985  \n",
       "95              2.60  1.16                          2.63      937  \n",
       "110             2.90  0.75                          2.81      562  \n",
       "115             1.90  1.71                          2.87      407  \n",
       "121             6.00  0.93                          3.69      465  \n",
       "123             2.60  0.73                          3.10      380  \n",
       "158            13.00  0.57                          1.96      660  "
      ]
     },
     "execution_count": 3,
     "metadata": {},
     "output_type": "execute_result"
    }
   ],
   "source": [
    "df[(np.abs(stats.zscore(df)) > 3).any(axis=1)]"
   ]
  },
  {
   "cell_type": "code",
   "execution_count": 4,
   "metadata": {},
   "outputs": [
    {
     "data": {
      "text/html": [
       "<div>\n",
       "<style scoped>\n",
       "    .dataframe tbody tr th:only-of-type {\n",
       "        vertical-align: middle;\n",
       "    }\n",
       "\n",
       "    .dataframe tbody tr th {\n",
       "        vertical-align: top;\n",
       "    }\n",
       "\n",
       "    .dataframe thead th {\n",
       "        text-align: right;\n",
       "    }\n",
       "</style>\n",
       "<table border=\"1\" class=\"dataframe\">\n",
       "  <thead>\n",
       "    <tr style=\"text-align: right;\">\n",
       "      <th></th>\n",
       "      <th>Class</th>\n",
       "      <th>Alcohol</th>\n",
       "      <th>Malic acid</th>\n",
       "      <th>Ash</th>\n",
       "      <th>Alcalinity of ash</th>\n",
       "      <th>Magnesium</th>\n",
       "      <th>Total phenols</th>\n",
       "      <th>Flavanoids</th>\n",
       "      <th>Nonflavanoid phenols</th>\n",
       "      <th>Proanthocyanins</th>\n",
       "      <th>Color intensity</th>\n",
       "      <th>Hue</th>\n",
       "      <th>OD280/OD315 of diluted wines</th>\n",
       "      <th>Proline</th>\n",
       "    </tr>\n",
       "  </thead>\n",
       "  <tbody>\n",
       "  </tbody>\n",
       "</table>\n",
       "</div>"
      ],
      "text/plain": [
       "Empty DataFrame\n",
       "Columns: [Class, Alcohol, Malic acid, Ash, Alcalinity of ash, Magnesium, Total phenols, Flavanoids, Nonflavanoid phenols, Proanthocyanins, Color intensity, Hue, OD280/OD315 of diluted wines, Proline]\n",
       "Index: []"
      ]
     },
     "execution_count": 4,
     "metadata": {},
     "output_type": "execute_result"
    }
   ],
   "source": [
    "df[df.duplicated()]"
   ]
  },
  {
   "cell_type": "code",
   "execution_count": 5,
   "metadata": {
    "scrolled": false
   },
   "outputs": [
    {
     "data": {
      "text/html": [
       "<div>\n",
       "<style scoped>\n",
       "    .dataframe tbody tr th:only-of-type {\n",
       "        vertical-align: middle;\n",
       "    }\n",
       "\n",
       "    .dataframe tbody tr th {\n",
       "        vertical-align: top;\n",
       "    }\n",
       "\n",
       "    .dataframe thead th {\n",
       "        text-align: right;\n",
       "    }\n",
       "</style>\n",
       "<table border=\"1\" class=\"dataframe\">\n",
       "  <thead>\n",
       "    <tr style=\"text-align: right;\">\n",
       "      <th></th>\n",
       "      <th>Alcohol</th>\n",
       "      <th>Malic acid</th>\n",
       "      <th>Ash</th>\n",
       "      <th>Alcalinity of ash</th>\n",
       "      <th>Magnesium</th>\n",
       "      <th>Total phenols</th>\n",
       "      <th>Flavanoids</th>\n",
       "      <th>Nonflavanoid phenols</th>\n",
       "      <th>Proanthocyanins</th>\n",
       "      <th>Color intensity</th>\n",
       "      <th>Hue</th>\n",
       "      <th>OD280/OD315 of diluted wines</th>\n",
       "      <th>Proline</th>\n",
       "    </tr>\n",
       "  </thead>\n",
       "  <tbody>\n",
       "    <tr>\n",
       "      <th>Alcohol</th>\n",
       "      <td>1.000000</td>\n",
       "      <td>NaN</td>\n",
       "      <td>NaN</td>\n",
       "      <td>NaN</td>\n",
       "      <td>NaN</td>\n",
       "      <td>NaN</td>\n",
       "      <td>NaN</td>\n",
       "      <td>NaN</td>\n",
       "      <td>NaN</td>\n",
       "      <td>0.546364</td>\n",
       "      <td>NaN</td>\n",
       "      <td>NaN</td>\n",
       "      <td>0.64372</td>\n",
       "    </tr>\n",
       "    <tr>\n",
       "      <th>Malic acid</th>\n",
       "      <td>NaN</td>\n",
       "      <td>1.000000</td>\n",
       "      <td>NaN</td>\n",
       "      <td>NaN</td>\n",
       "      <td>NaN</td>\n",
       "      <td>NaN</td>\n",
       "      <td>NaN</td>\n",
       "      <td>NaN</td>\n",
       "      <td>NaN</td>\n",
       "      <td>NaN</td>\n",
       "      <td>-0.561296</td>\n",
       "      <td>NaN</td>\n",
       "      <td>NaN</td>\n",
       "    </tr>\n",
       "    <tr>\n",
       "      <th>Ash</th>\n",
       "      <td>NaN</td>\n",
       "      <td>NaN</td>\n",
       "      <td>1.0</td>\n",
       "      <td>NaN</td>\n",
       "      <td>NaN</td>\n",
       "      <td>NaN</td>\n",
       "      <td>NaN</td>\n",
       "      <td>NaN</td>\n",
       "      <td>NaN</td>\n",
       "      <td>NaN</td>\n",
       "      <td>NaN</td>\n",
       "      <td>NaN</td>\n",
       "      <td>NaN</td>\n",
       "    </tr>\n",
       "    <tr>\n",
       "      <th>Alcalinity of ash</th>\n",
       "      <td>NaN</td>\n",
       "      <td>NaN</td>\n",
       "      <td>NaN</td>\n",
       "      <td>1.0</td>\n",
       "      <td>NaN</td>\n",
       "      <td>NaN</td>\n",
       "      <td>NaN</td>\n",
       "      <td>NaN</td>\n",
       "      <td>NaN</td>\n",
       "      <td>NaN</td>\n",
       "      <td>NaN</td>\n",
       "      <td>NaN</td>\n",
       "      <td>NaN</td>\n",
       "    </tr>\n",
       "    <tr>\n",
       "      <th>Magnesium</th>\n",
       "      <td>NaN</td>\n",
       "      <td>NaN</td>\n",
       "      <td>NaN</td>\n",
       "      <td>NaN</td>\n",
       "      <td>1.0</td>\n",
       "      <td>NaN</td>\n",
       "      <td>NaN</td>\n",
       "      <td>NaN</td>\n",
       "      <td>NaN</td>\n",
       "      <td>NaN</td>\n",
       "      <td>NaN</td>\n",
       "      <td>NaN</td>\n",
       "      <td>NaN</td>\n",
       "    </tr>\n",
       "    <tr>\n",
       "      <th>Total phenols</th>\n",
       "      <td>NaN</td>\n",
       "      <td>NaN</td>\n",
       "      <td>NaN</td>\n",
       "      <td>NaN</td>\n",
       "      <td>NaN</td>\n",
       "      <td>1.000000</td>\n",
       "      <td>0.864564</td>\n",
       "      <td>NaN</td>\n",
       "      <td>0.612413</td>\n",
       "      <td>NaN</td>\n",
       "      <td>NaN</td>\n",
       "      <td>0.699949</td>\n",
       "      <td>NaN</td>\n",
       "    </tr>\n",
       "    <tr>\n",
       "      <th>Flavanoids</th>\n",
       "      <td>NaN</td>\n",
       "      <td>NaN</td>\n",
       "      <td>NaN</td>\n",
       "      <td>NaN</td>\n",
       "      <td>NaN</td>\n",
       "      <td>0.864564</td>\n",
       "      <td>1.000000</td>\n",
       "      <td>-0.53790</td>\n",
       "      <td>0.652692</td>\n",
       "      <td>NaN</td>\n",
       "      <td>0.543479</td>\n",
       "      <td>0.787194</td>\n",
       "      <td>NaN</td>\n",
       "    </tr>\n",
       "    <tr>\n",
       "      <th>Nonflavanoid phenols</th>\n",
       "      <td>NaN</td>\n",
       "      <td>NaN</td>\n",
       "      <td>NaN</td>\n",
       "      <td>NaN</td>\n",
       "      <td>NaN</td>\n",
       "      <td>NaN</td>\n",
       "      <td>-0.537900</td>\n",
       "      <td>1.00000</td>\n",
       "      <td>NaN</td>\n",
       "      <td>NaN</td>\n",
       "      <td>NaN</td>\n",
       "      <td>-0.503270</td>\n",
       "      <td>NaN</td>\n",
       "    </tr>\n",
       "    <tr>\n",
       "      <th>Proanthocyanins</th>\n",
       "      <td>NaN</td>\n",
       "      <td>NaN</td>\n",
       "      <td>NaN</td>\n",
       "      <td>NaN</td>\n",
       "      <td>NaN</td>\n",
       "      <td>0.612413</td>\n",
       "      <td>0.652692</td>\n",
       "      <td>NaN</td>\n",
       "      <td>1.000000</td>\n",
       "      <td>NaN</td>\n",
       "      <td>NaN</td>\n",
       "      <td>0.519067</td>\n",
       "      <td>NaN</td>\n",
       "    </tr>\n",
       "    <tr>\n",
       "      <th>Color intensity</th>\n",
       "      <td>0.546364</td>\n",
       "      <td>NaN</td>\n",
       "      <td>NaN</td>\n",
       "      <td>NaN</td>\n",
       "      <td>NaN</td>\n",
       "      <td>NaN</td>\n",
       "      <td>NaN</td>\n",
       "      <td>NaN</td>\n",
       "      <td>NaN</td>\n",
       "      <td>1.000000</td>\n",
       "      <td>-0.521813</td>\n",
       "      <td>NaN</td>\n",
       "      <td>NaN</td>\n",
       "    </tr>\n",
       "    <tr>\n",
       "      <th>Hue</th>\n",
       "      <td>NaN</td>\n",
       "      <td>-0.561296</td>\n",
       "      <td>NaN</td>\n",
       "      <td>NaN</td>\n",
       "      <td>NaN</td>\n",
       "      <td>NaN</td>\n",
       "      <td>0.543479</td>\n",
       "      <td>NaN</td>\n",
       "      <td>NaN</td>\n",
       "      <td>-0.521813</td>\n",
       "      <td>1.000000</td>\n",
       "      <td>0.565468</td>\n",
       "      <td>NaN</td>\n",
       "    </tr>\n",
       "    <tr>\n",
       "      <th>OD280/OD315 of diluted wines</th>\n",
       "      <td>NaN</td>\n",
       "      <td>NaN</td>\n",
       "      <td>NaN</td>\n",
       "      <td>NaN</td>\n",
       "      <td>NaN</td>\n",
       "      <td>0.699949</td>\n",
       "      <td>0.787194</td>\n",
       "      <td>-0.50327</td>\n",
       "      <td>0.519067</td>\n",
       "      <td>NaN</td>\n",
       "      <td>0.565468</td>\n",
       "      <td>1.000000</td>\n",
       "      <td>NaN</td>\n",
       "    </tr>\n",
       "    <tr>\n",
       "      <th>Proline</th>\n",
       "      <td>0.643720</td>\n",
       "      <td>NaN</td>\n",
       "      <td>NaN</td>\n",
       "      <td>NaN</td>\n",
       "      <td>NaN</td>\n",
       "      <td>NaN</td>\n",
       "      <td>NaN</td>\n",
       "      <td>NaN</td>\n",
       "      <td>NaN</td>\n",
       "      <td>NaN</td>\n",
       "      <td>NaN</td>\n",
       "      <td>NaN</td>\n",
       "      <td>1.00000</td>\n",
       "    </tr>\n",
       "  </tbody>\n",
       "</table>\n",
       "</div>"
      ],
      "text/plain": [
       "                               Alcohol  Malic acid  Ash  Alcalinity of ash  \\\n",
       "Alcohol                       1.000000         NaN  NaN                NaN   \n",
       "Malic acid                         NaN    1.000000  NaN                NaN   \n",
       "Ash                                NaN         NaN  1.0                NaN   \n",
       "Alcalinity of ash                  NaN         NaN  NaN                1.0   \n",
       "Magnesium                          NaN         NaN  NaN                NaN   \n",
       "Total phenols                      NaN         NaN  NaN                NaN   \n",
       "Flavanoids                         NaN         NaN  NaN                NaN   \n",
       "Nonflavanoid phenols               NaN         NaN  NaN                NaN   \n",
       "Proanthocyanins                    NaN         NaN  NaN                NaN   \n",
       "Color intensity               0.546364         NaN  NaN                NaN   \n",
       "Hue                                NaN   -0.561296  NaN                NaN   \n",
       "OD280/OD315 of diluted wines       NaN         NaN  NaN                NaN   \n",
       "Proline                       0.643720         NaN  NaN                NaN   \n",
       "\n",
       "                              Magnesium  Total phenols  Flavanoids  \\\n",
       "Alcohol                             NaN            NaN         NaN   \n",
       "Malic acid                          NaN            NaN         NaN   \n",
       "Ash                                 NaN            NaN         NaN   \n",
       "Alcalinity of ash                   NaN            NaN         NaN   \n",
       "Magnesium                           1.0            NaN         NaN   \n",
       "Total phenols                       NaN       1.000000    0.864564   \n",
       "Flavanoids                          NaN       0.864564    1.000000   \n",
       "Nonflavanoid phenols                NaN            NaN   -0.537900   \n",
       "Proanthocyanins                     NaN       0.612413    0.652692   \n",
       "Color intensity                     NaN            NaN         NaN   \n",
       "Hue                                 NaN            NaN    0.543479   \n",
       "OD280/OD315 of diluted wines        NaN       0.699949    0.787194   \n",
       "Proline                             NaN            NaN         NaN   \n",
       "\n",
       "                              Nonflavanoid phenols  Proanthocyanins  \\\n",
       "Alcohol                                        NaN              NaN   \n",
       "Malic acid                                     NaN              NaN   \n",
       "Ash                                            NaN              NaN   \n",
       "Alcalinity of ash                              NaN              NaN   \n",
       "Magnesium                                      NaN              NaN   \n",
       "Total phenols                                  NaN         0.612413   \n",
       "Flavanoids                                -0.53790         0.652692   \n",
       "Nonflavanoid phenols                       1.00000              NaN   \n",
       "Proanthocyanins                                NaN         1.000000   \n",
       "Color intensity                                NaN              NaN   \n",
       "Hue                                            NaN              NaN   \n",
       "OD280/OD315 of diluted wines              -0.50327         0.519067   \n",
       "Proline                                        NaN              NaN   \n",
       "\n",
       "                              Color intensity       Hue  \\\n",
       "Alcohol                              0.546364       NaN   \n",
       "Malic acid                                NaN -0.561296   \n",
       "Ash                                       NaN       NaN   \n",
       "Alcalinity of ash                         NaN       NaN   \n",
       "Magnesium                                 NaN       NaN   \n",
       "Total phenols                             NaN       NaN   \n",
       "Flavanoids                                NaN  0.543479   \n",
       "Nonflavanoid phenols                      NaN       NaN   \n",
       "Proanthocyanins                           NaN       NaN   \n",
       "Color intensity                      1.000000 -0.521813   \n",
       "Hue                                 -0.521813  1.000000   \n",
       "OD280/OD315 of diluted wines              NaN  0.565468   \n",
       "Proline                                   NaN       NaN   \n",
       "\n",
       "                              OD280/OD315 of diluted wines  Proline  \n",
       "Alcohol                                                NaN  0.64372  \n",
       "Malic acid                                             NaN      NaN  \n",
       "Ash                                                    NaN      NaN  \n",
       "Alcalinity of ash                                      NaN      NaN  \n",
       "Magnesium                                              NaN      NaN  \n",
       "Total phenols                                     0.699949      NaN  \n",
       "Flavanoids                                        0.787194      NaN  \n",
       "Nonflavanoid phenols                             -0.503270      NaN  \n",
       "Proanthocyanins                                   0.519067      NaN  \n",
       "Color intensity                                        NaN      NaN  \n",
       "Hue                                               0.565468      NaN  \n",
       "OD280/OD315 of diluted wines                      1.000000      NaN  \n",
       "Proline                                                NaN  1.00000  "
      ]
     },
     "execution_count": 5,
     "metadata": {},
     "output_type": "execute_result"
    }
   ],
   "source": [
    "df.drop('Class', axis=1).corr()[np.abs(df.drop('Class', axis=1).corr())>0.5]"
   ]
  },
  {
   "cell_type": "code",
   "execution_count": 6,
   "metadata": {},
   "outputs": [
    {
     "data": {
      "text/plain": [
       "<matplotlib.axes._subplots.AxesSubplot at 0x7f8a70b891d0>"
      ]
     },
     "execution_count": 6,
     "metadata": {},
     "output_type": "execute_result"
    },
    {
     "data": {
      "image/png": "[encoded data removed]",
      "text/plain": [
       "<matplotlib.figure.Figure at 0x7f8a9c2b25f8>"
      ]
     },
     "metadata": {},
     "output_type": "display_data"
    }
   ],
   "source": [
    "df.plot.scatter('Flavanoids','Total phenols')"
   ]
  },
  {
   "cell_type": "code",
   "execution_count": 7,
   "metadata": {},
   "outputs": [
    {
     "data": {
      "text/plain": [
       "<matplotlib.axes._subplots.AxesSubplot at 0x7f8a63fec7b8>"
      ]
     },
     "execution_count": 7,
     "metadata": {},
     "output_type": "execute_result"
    },
    {
     "data": {
      "image/png": "[encoded data removed]",
      "text/plain": [
       "<matplotlib.figure.Figure at 0x7f8a70c41a58>"
      ]
     },
     "metadata": {},
     "output_type": "display_data"
    }
   ],
   "source": [
    "df.plot.scatter('Flavanoids','OD280/OD315 of diluted wines')"
   ]
  },
  {
   "cell_type": "markdown",
   "metadata": {},
   "source": [
    "### Summary Statistics\n",
    "\n",
    "There are altogether 178 entries. And basic statistics are as following."
   ]
  },
  {
   "cell_type": "code",
   "execution_count": 8,
   "metadata": {},
   "outputs": [
    {
     "data": {
      "text/plain": [
       "Alcohol                          13.000618\n",
       "Malic acid                        2.336348\n",
       "Ash                               2.366517\n",
       "Alcalinity of ash                19.494944\n",
       "Magnesium                        99.741573\n",
       "Total phenols                     2.295112\n",
       "Flavanoids                        2.029270\n",
       "Nonflavanoid phenols              0.361854\n",
       "Proanthocyanins                   1.590899\n",
       "Color intensity                   5.058090\n",
       "Hue                               0.957449\n",
       "OD280/OD315 of diluted wines      2.611685\n",
       "Proline                         746.893258\n",
       "dtype: float64"
      ]
     },
     "execution_count": 8,
     "metadata": {},
     "output_type": "execute_result"
    }
   ],
   "source": [
    "wocl.mean()"
   ]
  },
  {
   "cell_type": "code",
   "execution_count": 9,
   "metadata": {},
   "outputs": [
    {
     "data": {
      "text/plain": [
       "Alcohol                            3.80\n",
       "Malic acid                         5.06\n",
       "Ash                                1.87\n",
       "Alcalinity of ash                 19.40\n",
       "Magnesium                         92.00\n",
       "Total phenols                      2.90\n",
       "Flavanoids                         4.74\n",
       "Nonflavanoid phenols               0.53\n",
       "Proanthocyanins                    3.17\n",
       "Color intensity                   11.72\n",
       "Hue                                1.23\n",
       "OD280/OD315 of diluted wines       2.73\n",
       "Proline                         1402.00\n",
       "dtype: float64"
      ]
     },
     "execution_count": 9,
     "metadata": {},
     "output_type": "execute_result"
    }
   ],
   "source": [
    "wocl.max()-wocl.min()"
   ]
  },
  {
   "cell_type": "code",
   "execution_count": 10,
   "metadata": {},
   "outputs": [
    {
     "data": {
      "text/plain": [
       "Alcohol                           0.811827\n",
       "Malic acid                        1.117146\n",
       "Ash                               0.274344\n",
       "Alcalinity of ash                 3.339564\n",
       "Magnesium                        14.282484\n",
       "Total phenols                     0.625851\n",
       "Flavanoids                        0.998859\n",
       "Nonflavanoid phenols              0.124453\n",
       "Proanthocyanins                   0.572359\n",
       "Color intensity                   2.318286\n",
       "Hue                               0.228572\n",
       "OD280/OD315 of diluted wines      0.709990\n",
       "Proline                         314.907474\n",
       "dtype: float64"
      ]
     },
     "execution_count": 10,
     "metadata": {},
     "output_type": "execute_result"
    }
   ],
   "source": [
    "wocl.std()"
   ]
  },
  {
   "cell_type": "markdown",
   "metadata": {},
   "source": [
    "## 2. Data Perprocessing\n",
    "As suggested by the dataset discription, all values are converted into a z score for standardization. And attribute \"Total phenols\" is excluded for processing because it is highly correlated to \"Flavanoids\"."
   ]
  },
  {
   "cell_type": "code",
   "execution_count": 11,
   "metadata": {},
   "outputs": [
    {
     "data": {
      "text/html": [
       "<div>\n",
       "<style scoped>\n",
       "    .dataframe tbody tr th:only-of-type {\n",
       "        vertical-align: middle;\n",
       "    }\n",
       "\n",
       "    .dataframe tbody tr th {\n",
       "        vertical-align: top;\n",
       "    }\n",
       "\n",
       "    .dataframe thead th {\n",
       "        text-align: right;\n",
       "    }\n",
       "</style>\n",
       "<table border=\"1\" class=\"dataframe\">\n",
       "  <thead>\n",
       "    <tr style=\"text-align: right;\">\n",
       "      <th></th>\n",
       "      <th>Alcohol</th>\n",
       "      <th>Malic acid</th>\n",
       "      <th>Ash</th>\n",
       "      <th>Alcalinity of ash</th>\n",
       "      <th>Magnesium</th>\n",
       "      <th>Flavanoids</th>\n",
       "      <th>Nonflavanoid phenols</th>\n",
       "      <th>Proanthocyanins</th>\n",
       "      <th>Color intensity</th>\n",
       "      <th>Hue</th>\n",
       "      <th>OD280/OD315 of diluted wines</th>\n",
       "      <th>Proline</th>\n",
       "    </tr>\n",
       "  </thead>\n",
       "  <tbody>\n",
       "    <tr>\n",
       "      <th>165</th>\n",
       "      <td>0.90098</td>\n",
       "      <td>1.816558</td>\n",
       "      <td>-0.389355</td>\n",
       "      <td>0.902373</td>\n",
       "      <td>-0.824415</td>\n",
       "      <td>-1.565455</td>\n",
       "      <td>1.274310</td>\n",
       "      <td>-0.772492</td>\n",
       "      <td>0.675635</td>\n",
       "      <td>-0.778531</td>\n",
       "      <td>-1.217081</td>\n",
       "      <td>-0.722540</td>\n",
       "    </tr>\n",
       "    <tr>\n",
       "      <th>30</th>\n",
       "      <td>0.90098</td>\n",
       "      <td>-0.750759</td>\n",
       "      <td>1.218995</td>\n",
       "      <td>0.902373</td>\n",
       "      <td>0.088358</td>\n",
       "      <td>1.225573</td>\n",
       "      <td>-0.578985</td>\n",
       "      <td>1.382572</td>\n",
       "      <td>0.277671</td>\n",
       "      <td>1.020278</td>\n",
       "      <td>0.138864</td>\n",
       "      <td>1.713598</td>\n",
       "    </tr>\n",
       "    <tr>\n",
       "      <th>59</th>\n",
       "      <td>-0.77898</td>\n",
       "      <td>-1.253450</td>\n",
       "      <td>-3.679162</td>\n",
       "      <td>-2.671018</td>\n",
       "      <td>-0.824415</td>\n",
       "      <td>-1.465058</td>\n",
       "      <td>-0.659563</td>\n",
       "      <td>-2.051513</td>\n",
       "      <td>-1.344466</td>\n",
       "      <td>0.406051</td>\n",
       "      <td>-1.118210</td>\n",
       "      <td>-0.722540</td>\n",
       "    </tr>\n",
       "  </tbody>\n",
       "</table>\n",
       "</div>"
      ],
      "text/plain": [
       "     Alcohol  Malic acid       Ash  Alcalinity of ash  Magnesium  Flavanoids  \\\n",
       "165  0.90098    1.816558 -0.389355           0.902373  -0.824415   -1.565455   \n",
       "30   0.90098   -0.750759  1.218995           0.902373   0.088358    1.225573   \n",
       "59  -0.77898   -1.253450 -3.679162          -2.671018  -0.824415   -1.465058   \n",
       "\n",
       "     Nonflavanoid phenols  Proanthocyanins  Color intensity       Hue  \\\n",
       "165              1.274310        -0.772492         0.675635 -0.778531   \n",
       "30              -0.578985         1.382572         0.277671  1.020278   \n",
       "59              -0.659563        -2.051513        -1.344466  0.406051   \n",
       "\n",
       "     OD280/OD315 of diluted wines   Proline  \n",
       "165                     -1.217081 -0.722540  \n",
       "30                       0.138864  1.713598  \n",
       "59                      -1.118210 -0.722540  "
      ]
     },
     "execution_count": 11,
     "metadata": {},
     "output_type": "execute_result"
    }
   ],
   "source": [
    "fnl.sample(3)"
   ]
  },
  {
   "cell_type": "markdown",
   "metadata": {},
   "source": [
    "## 3. Choose an Evaluation Approach\n",
    "First, the dataset is devided into 2 datasets according to the odd and even index. The train and train_class is for part 4 and test and test_class is for part 5.\n",
    "\n",
    "I choose the 3-fold cross-validation as the evaluation. The wine dataset is reletively some and this method can utilize every entry for training. And for a small dataset the drawback of computationally expensive is not so severe."
   ]
  },
  {
   "cell_type": "code",
   "execution_count": 12,
   "metadata": {},
   "outputs": [],
   "source": [
    "# data for part 4\n",
    "train=fnl.iloc[fnl.index%2==0]\n",
    "# true class for training data\n",
    "train_class=cla.iloc[fnl.index%2==0]\n",
    "test=fnl.iloc[fnl.index%2==1]\n",
    "test_class=cla.iloc[fnl.index%2==1]"
   ]
  },
  {
   "cell_type": "code",
   "execution_count": 13,
   "metadata": {},
   "outputs": [],
   "source": [
    "# ea is the Evaluation Method.\n",
    "from sklearn.model_selection import KFold\n",
    "ea = KFold(n_splits=3,shuffle=True,random_state=233)\n",
    "# the split for train and test\n",
    "a=[[],[],[]]\n",
    "b=[[],[],[]]\n",
    "a[0],a[1],a[2]=ea.split(train)\n",
    "b[0],b[1],b[2]=ea.split(test)\n",
    "#a[0][0] is the train for the first split of the training dataset (i.e. for part 4) \n",
    "#a[0][1] is the validation data for the first split "
   ]
  },
  {
   "cell_type": "markdown",
   "metadata": {},
   "source": [
    "## 4. Build and Evaluate six classifiers"
   ]
  },
  {
   "cell_type": "code",
   "execution_count": 14,
   "metadata": {},
   "outputs": [],
   "source": [
    "# the function for calculation mean AUC and fpr/tpr for ROC plot\n",
    "def mean_roc_auc(classifier,data,target,spl):\n",
    "    fpr = dict()\n",
    "    tpr = dict()\n",
    "    roc_auc = dict()\n",
    "    for i in range(3):\n",
    "        # for every split\n",
    "        x=data.iloc[spl[i][0]]\n",
    "        y=target.iloc[spl[i][0]]\n",
    "        classifier.fit(x,y)\n",
    "        y_pre=classifier.predict(data.iloc[spl[i][1]])\n",
    "        y_tru=target.iloc[spl[i][1]]\n",
    "        for j in range(3):\n",
    "            # consider every class label\n",
    "            fpr[i*3+j],tpr[i*3+j],_=roc_curve(y_tru==j+1,y_pre==j+1)\n",
    "            roc_auc[i*3+j] = auc(fpr[i*3+j], tpr[i*3+j])\n",
    "\n",
    "    # First aggregate all false positive rates\n",
    "    all_fpr = np.unique(np.concatenate([fpr[i] for i in range(3*3)]))\n",
    "\n",
    "    # Then interpolate all ROC curves at this points\n",
    "    mean_tpr = np.zeros_like(all_fpr)\n",
    "    for i in range(9):\n",
    "        mean_tpr += interp(all_fpr, fpr[i], tpr[i])\n",
    "\n",
    "    # Finally average it and compute AUC\n",
    "    mean_tpr /= 9\n",
    "\n",
    "    fpr[\"macro\"] = all_fpr\n",
    "    tpr[\"macro\"] = mean_tpr\n",
    "    roc_auc[\"macro\"] = auc(fpr[\"macro\"], tpr[\"macro\"])\n",
    "    return {'fpr':all_fpr, 'tpr':mean_tpr ,'auc':roc_auc[\"macro\"] }"
   ]
  },
  {
   "cell_type": "code",
   "execution_count": 15,
   "metadata": {},
   "outputs": [],
   "source": [
    "#the function for draw ROC curve\n",
    "def draw(t):\n",
    "    plt.figure()\n",
    "    plt.plot(t[\"fpr\"], t[\"tpr\"], color='darkorange', label='ROC curve (area = %0.2f)'%t[\"auc\"])\n",
    "    plt.plot([0, 1], [0, 1], color='navy', linestyle='--')\n",
    "    plt.xlim([0.0, 1.0])\n",
    "    plt.ylim([0.0, 1.05])\n",
    "    plt.xlabel('False Positive Rate')\n",
    "    plt.ylabel('True Positive Rate')\n",
    "    plt.title('Receiver operating characteristic example')\n",
    "    plt.legend(loc=\"lower right\")\n",
    "    plt.show()"
   ]
  },
  {
   "cell_type": "markdown",
   "metadata": {},
   "source": [
    "\n",
    "### 4.1. k-Nearsest Neighbors\n",
    "#### Tunable Parameters\n",
    "* n_neighbors: Number of neighbors to use. Use default 5.\n",
    "* weights: Weight function for prediction. Use uniform here.\n",
    "* algorithm: Algorithm for computation. Use auto\n",
    "* p: Power parameter for the Minkowski metric. Use 2.\n",
    "* metric: the methos for metric. Use Minkowski.\n",
    "* metric_params: Additional keyword arguments for the metric function. Not needed here.\n",
    "* n_jobs: Number of parallel jobs. Use -1 here to match the core number.\n",
    "\n"
   ]
  },
  {
   "cell_type": "code",
   "execution_count": 16,
   "metadata": {},
   "outputs": [],
   "source": [
    "# import sklearn.model_selection\n",
    "from sklearn.model_selection import cross_val_score\n",
    "from sklearn.metrics import roc_curve, auc\n",
    "from sklearn.neighbors import KNeighborsClassifier\n",
    "from scipy import interp\n",
    "neigh = KNeighborsClassifier(n_jobs=-1)"
   ]
  },
  {
   "cell_type": "markdown",
   "metadata": {},
   "source": [
    "#### Performance Statistics"
   ]
  },
  {
   "cell_type": "code",
   "execution_count": 17,
   "metadata": {},
   "outputs": [
    {
     "name": "stdout",
     "output_type": "stream",
     "text": [
      "0.966283524904\n",
      "0.96070160029\n",
      "0.97304403686\n"
     ]
    }
   ],
   "source": [
    "accuracy=cross_val_score(neigh,train,train_class,cv=ea,scoring='accuracy')\n",
    "f1=cross_val_score(neigh,train,train_class,cv=ea,scoring='f1_macro')\n",
    "roc=mean_roc_auc(neigh,train,train_class,a)\n",
    "print(accuracy.mean())\n",
    "print(f1.mean())\n",
    "print(roc[\"auc\"])"
   ]
  },
  {
   "cell_type": "markdown",
   "metadata": {},
   "source": [
    "#### Plot"
   ]
  },
  {
   "cell_type": "code",
   "execution_count": 18,
   "metadata": {},
   "outputs": [
    {
     "data": {
      "image/png": "[encoded data removed]",
      "text/plain": [
       "<matplotlib.figure.Figure at 0x7f8a622f9da0>"
      ]
     },
     "metadata": {},
     "output_type": "display_data"
    }
   ],
   "source": [
    "# draw(mean_roc_auc(neigh,train,train_class,a))\n",
    "draw(roc)"
   ]
  },
  {
   "cell_type": "markdown",
   "metadata": {
    "collapsed": true
   },
   "source": [
    "### 4.2. Decision Tree\n",
    "sklearn.tree.DecisionTreeClassifier(criterion='gini', splitter='best', max_depth=None, min_samples_split=2, min_samples_leaf=1, min_weight_fraction_leaf=0.0, max_features=None, random_state=None, max_leaf_nodes=None, min_impurity_decrease=0.0, min_impurity_split=None, class_weight=None, presort=False)\n",
    "#### Tunable Parameters\n",
    "* criterion (string, default=”gini”): The function to measure the quality of a split. Supported criteria are “gini” for the Gini impurity and “entropy” for the information gain.\n",
    "* splitter (string, default=”best”): The strategy used to choose the split at each node. Supported strategies are “best” to choose the best split and “random” to choose the best random split.\n",
    "* max_depth (int or None, default=None): The maximum depth of the tree. If None, then nodes are expanded until all leaves are pure or until all leaves contain less than min_samples_split samples.\n",
    "* min_samples_split (int, float, default=2): The minimum number of samples required to split an internal node. If int, then consider min_samples_split as the minimum number. If float, then min_samples_split is a percentage and ceil(min_samples_split * n_samples) are the minimum number of samples for each split.\n",
    "* min_samples_leaf (int, float, default=1): The minimum number of samples required to be at a leaf node. If int, then consider min_samples_leaf as the minimum number. If float, then min_samples_leaf is a percentage and ceil(min_samples_leaf * n_samples) are the minimum number of samples for each node.\n",
    "* min_weight_fraction_leaf (float, default=0.): The minimum weighted fraction of the sum total of weights (of all the input samples) required to be at a leaf node. Samples have equal weight when sample_weight is not provided.\n",
    "* max_features (int, float, string or None, default=None): The number of features to consider when looking for the best split. If int, then consider max_features features at each split. If float, then max_features is a percentage and int(max_features * n_features) features are considered at each split. If “auto”, then max_features=sqrt(n_features). If “sqrt”, then max_features=sqrt(n_features). If “log2”, then max_features=log2(n_features). If None, then max_features=n_features.\n",
    "* random_state (int, RandomState instance or None, default=None): If int, random_state is the seed used by the random number generator; If RandomState instance, random_state is the random number generator; If None, the random number generator is the RandomState instance used by np.random.\n",
    "* max_leaf_nodes (int or None, default=None): Grow a tree with max_leaf_nodes in best-first fashion. Best nodes are defined as relative reduction in impurity. If None then unlimited number of leaf nodes.\n",
    "* min_impurity_decrease (float, default=0.): A node will be split if this split induces a decrease of the impurity greater than or equal to this value.\n",
    "* min_impurity_split (float): Threshold for early stopping in tree growth. A node will split if its impurity is above the threshold, otherwise it is a leaf.\n",
    "* class_weight (dict, list of dicts, “balanced” or None, default=None): Weights associated with classes in the form {class_label: weight}. If not given, all classes are supposed to have weight one. For multi-output problems, a list of dicts can be provided in the same order as the columns of y.\n",
    "* presort (bool, default=False): Whether to presort the data to speed up the finding of best splits in fitting. For the default settings of a decision tree on large datasets, setting this to true may slow down the training process. When using either a smaller dataset or a restricted depth, this may speed up the training.\n",
    "\n",
    "We use default values for all above parameters."
   ]
  },
  {
   "cell_type": "code",
   "execution_count": 19,
   "metadata": {},
   "outputs": [],
   "source": [
    "# import sklearn.model_selection\n",
    "from sklearn.tree import DecisionTreeClassifier\n",
    "decisionTree = DecisionTreeClassifier()"
   ]
  },
  {
   "cell_type": "markdown",
   "metadata": {},
   "source": [
    "#### Performance Statistics"
   ]
  },
  {
   "cell_type": "code",
   "execution_count": 20,
   "metadata": {},
   "outputs": [
    {
     "name": "stdout",
     "output_type": "stream",
     "text": [
      "0.886973180077\n",
      "0.893734399482\n",
      "0.918533489883\n"
     ]
    }
   ],
   "source": [
    "accuracy=cross_val_score(decisionTree,train,train_class,cv=ea,scoring='accuracy')\n",
    "f1=cross_val_score(decisionTree,train,train_class,cv=ea,scoring='f1_macro')\n",
    "roc=mean_roc_auc(decisionTree,train,train_class,a)\n",
    "print(accuracy.mean())\n",
    "print(f1.mean())\n",
    "print(roc[\"auc\"])"
   ]
  },
  {
   "cell_type": "markdown",
   "metadata": {},
   "source": [
    "#### Plot"
   ]
  },
  {
   "cell_type": "code",
   "execution_count": 21,
   "metadata": {},
   "outputs": [
    {
     "data": {
      "image/png": "[encoded data removed]",
      "text/plain": [
       "<matplotlib.figure.Figure at 0x7f8a63fafe10>"
      ]
     },
     "metadata": {},
     "output_type": "display_data"
    }
   ],
   "source": [
    "draw(roc)"
   ]
  },
  {
   "cell_type": "markdown",
   "metadata": {
    "collapsed": true
   },
   "source": [
    "### 4.3. Naive Bayes\n",
    "class sklearn.naive_bayes.GaussianNB(priors=None)\n",
    "#### Tunable Parameters\n",
    "* priors (array-like, shape): Prior probabilities of the classes. If specified the priors are not adjusted according to the data.\n",
    "\n",
    "We use default value for  parameters."
   ]
  },
  {
   "cell_type": "code",
   "execution_count": 22,
   "metadata": {},
   "outputs": [],
   "source": [
    "# import sklearn.model_selection\n",
    "from sklearn.naive_bayes import GaussianNB\n",
    "naiveBayes = GaussianNB()"
   ]
  },
  {
   "cell_type": "markdown",
   "metadata": {
    "collapsed": true
   },
   "source": [
    "#### Performance Statistics"
   ]
  },
  {
   "cell_type": "code",
   "execution_count": 23,
   "metadata": {},
   "outputs": [
    {
     "name": "stdout",
     "output_type": "stream",
     "text": [
      "0.966283524904\n",
      "0.967761524363\n",
      "0.972209843533\n"
     ]
    }
   ],
   "source": [
    "accuracy=cross_val_score(naiveBayes,train,train_class,cv=ea,scoring='accuracy')\n",
    "f1=cross_val_score(naiveBayes,train,train_class,cv=ea,scoring='f1_macro')\n",
    "roc=mean_roc_auc(naiveBayes,train,train_class,a)\n",
    "print(accuracy.mean())\n",
    "print(f1.mean())\n",
    "print(roc[\"auc\"])"
   ]
  },
  {
   "cell_type": "markdown",
   "metadata": {},
   "source": [
    "#### Plot"
   ]
  },
  {
   "cell_type": "code",
   "execution_count": 24,
   "metadata": {},
   "outputs": [
    {
     "data": {
      "image/png": "[encoded data removed]",
      "text/plain": [
       "<matplotlib.figure.Figure at 0x7f8a617e5320>"
      ]
     },
     "metadata": {},
     "output_type": "display_data"
    }
   ],
   "source": [
    "draw(roc)"
   ]
  },
  {
   "cell_type": "markdown",
   "metadata": {},
   "source": [
    "### 4.4. Artificial Neural Network\n",
    "class sklearn.neural_network.MLPClassifier(hidden_layer_sizes=(100, ), activation=’relu’, solver=’adam’, alpha=0.0001, batch_size=’auto’, learning_rate=’constant’, learning_rate_init=0.001, power_t=0.5, max_iter=200, shuffle=True, random_state=None, tol=0.0001, verbose=False, warm_start=False, momentum=0.9, nesterovs_momentum=True, early_stopping=False, validation_fraction=0.1, beta_1=0.9, beta_2=0.999, epsilon=1e-08)\n",
    "#### Tunable Parameters\n",
    "* hidden_layer_sizes (tuple, length = n_layers - 2, default (100,)): The ith element represents the number of neurons in the ith hidden layer.\n",
    "* activation ({‘identity’, ‘logistic’, ‘tanh’, ‘relu’}, default 'relu'): Activation function for the hidden layer.\n",
    "* solver ({‘lbfgs’, ‘sgd’, ‘adam’}, default ‘adam’): The solver for weight optimization.\n",
    "* alpha (float, default 0.0001): L2 penalty (regularization term) parameter.\n",
    "* batch_size (int, default ‘auto’): Size of minibatches for stochastic optimizers. If the solver is ‘lbfgs’, the classifier will not use minibatch. When set to “auto”, batch_size=min(200, n_samples)\n",
    "* learning_rate ({‘constant’, ‘invscaling’, ‘adaptive’}, default ‘constant’): Learning rate schedule for weight updates.\n",
    "* learning_rate_init (double, default 0.001): The initial learning rate used. It controls the step-size in updating the weights. Only used when solver=’sgd’ or ‘adam’.\n",
    "* power_t (double, default 0.5): The exponent for inverse scaling learning rate. It is used in updating effective learning rate when the learning_rate is set to ‘invscaling’. Only used when solver=’sgd’.\n",
    "* max_iter (int, default 200): Maximum number of iterations. The solver iterates until convergence (determined by ‘tol’) or this number of iterations. For stochastic solvers (‘sgd’, ‘adam’), note that this determines the number of epochs (how many times each data point will be used), not the number of gradient steps.\n",
    "* shuffle (bool, default True): Whether to shuffle samples in each iteration. Only used when solver=’sgd’ or ‘adam’.\n",
    "* random_state (int, RandomState instance or None, default None): If int, random_state is the seed used by the random number generator; If RandomState instance, random_state is the random number generator; If None, the random number generator is the RandomState instance used by np.random.\n",
    "* tol (float, default 1e-4): Tolerance for the optimization. When the loss or score is not improving by at least tol for two consecutive iterations, unless learning_rate is set to ‘adaptive’, convergence is considered to be reached and training stops.\n",
    "* verbose (bool, default False): Whether to print progress messages to stdout.\n",
    "* warm_start (bool, default False): When set to True, reuse the solution of the previous call to fit as initialization, otherwise, just erase the previous solution.\n",
    "* momentum (float, default 0.9): Momentum for gradient descent update. Should be between 0 and 1. Only used when solver=’sgd’.\n",
    "* nesterovs_momentum (boolean, default True): Whether to use Nesterov’s momentum. Only used when solver=’sgd’ and momentum > 0.\n",
    "* early_stopping (bool, default False): Whether to use early stopping to terminate training when validation score is not improving. If set to true, it will automatically set aside 10% of training data as validation and terminate training when validation score is not improving by at least tol for two consecutive epochs. Only effective when solver=’sgd’ or ‘adam’.\n",
    "* validation_fraction (float, default 0.1): The proportion of training data to set aside as validation set for early stopping. Must be between 0 and 1. Only used if early_stopping is True.\n",
    "* beta_1 (float, default 0.9): Exponential decay rate for estimates of first moment vector in adam, should be in [0, 1). Only used when solver=’adam’\n",
    "* beta_2 (float, default 0.999): Exponential decay rate for estimates of second moment vector in adam, should be in [0, 1). Only used when solver=’adam’\n",
    "* epsilon (float, default 1e-8): Value for numerical stability in adam. Only used when solver=’adam’\n",
    "\n",
    "We set the maximum number of iterations ('max_iter') to be 500 to make sure the optimization converges. For all other parameters, we use corresponding default values."
   ]
  },
  {
   "cell_type": "code",
   "execution_count": 25,
   "metadata": {},
   "outputs": [],
   "source": [
    "from sklearn.neural_network import MLPClassifier\n",
    "neuralNetwork = MLPClassifier(max_iter=500)"
   ]
  },
  {
   "cell_type": "markdown",
   "metadata": {},
   "source": [
    "#### Performance Statistics"
   ]
  },
  {
   "cell_type": "code",
   "execution_count": 26,
   "metadata": {},
   "outputs": [
    {
     "name": "stdout",
     "output_type": "stream",
     "text": [
      "0.965900383142\n",
      "0.950501253133\n",
      "0.967649534561\n"
     ]
    }
   ],
   "source": [
    "accuracy=cross_val_score(neuralNetwork,train,train_class,cv=ea,scoring='accuracy')\n",
    "f1=cross_val_score(neuralNetwork,train,train_class,cv=ea,scoring='f1_macro')\n",
    "roc=mean_roc_auc(neuralNetwork,train,train_class,a)\n",
    "print(accuracy.mean())\n",
    "print(f1.mean())\n",
    "print(roc[\"auc\"])"
   ]
  },
  {
   "cell_type": "markdown",
   "metadata": {},
   "source": [
    "#### Plot"
   ]
  },
  {
   "cell_type": "code",
   "execution_count": 27,
   "metadata": {},
   "outputs": [
    {
     "data": {
      "image/png": "[encoded data removed]",
      "text/plain": [
       "<matplotlib.figure.Figure at 0x7f8a617126d8>"
      ]
     },
     "metadata": {},
     "output_type": "display_data"
    }
   ],
   "source": [
    "draw(roc)"
   ]
  },
  {
   "cell_type": "markdown",
   "metadata": {},
   "source": [
    "### 4.5. Support Vector Machine\n",
    "class sklearn.svm.LinearSVC(penalty=’l2’, loss=’squared_hinge’, dual=True, tol=0.0001, C=1.0, multi_class=’ovr’, fit_intercept=True, intercept_scaling=1, class_weight=None, verbose=0, random_state=None, max_iter=1000)\n",
    "#### Tunable Parameters\n",
    "* penalty (string, ‘l1’ or ‘l2, default=’l2’): Specifies the norm used in the penalization. The ‘l2’ penalty is the standard used in SVC. The ‘l1’ leads to coef_ vectors that are sparse.\n",
    "* loss (string, ‘hinge’ or ‘squared_hinge’, default=’squared_hinge’): Specifies the loss function. ‘hinge’ is the standard SVM loss (used e.g. by the SVC class) while ‘squared_hinge’ is the square of the hinge loss.\n",
    "* dual (bool, default=True): Select the algorithm to either solve the dual or primal optimization problem. Prefer dual=False when n_samples > n_features.\n",
    "* tol (float, default=1e-4): Tolerance for stopping criteria.\n",
    "* C (float, default=1.0): Penalty parameter C of the error term.\n",
    "* multi_class (string, ‘ovr’ or ‘crammer_singer’, default=’ovr’): Determines the multi-class strategy if y contains more than two classes. \"ovr\" trains n_classes one-vs-rest classifiers, while \"crammer_singer\" optimizes a joint objective over all classes.\n",
    "* fit_intercept (boolean, default=True): Whether to calculate the intercept for this model. If set to false, no intercept will be used in calculations (i.e. data is expected to be already centered).\n",
    "* intercept_scaling (float, default=1): When self.fit_intercept is True, instance vector x becomes [x, self.intercept_scaling], i.e. a “synthetic” feature with constant value equals to intercept_scaling is appended to the instance vector. The intercept becomes intercept_scaling * synthetic feature weight Note! the synthetic feature weight is subject to l1/l2 regularization as all other features. To lessen the effect of regularization on synthetic feature weight (and therefore on the intercept) intercept_scaling has to be increased.\n",
    "* class_weight ({dict, ‘balanced’}): Set the parameter C of class i to class_weight[i]*C for SVC. If not given, all classes are supposed to have weight one. The “balanced” mode uses the values of y to automatically adjust weights inversely proportional to class frequencies in the input data as n_samples / (n_classes * np.bincount(y))\n",
    "* verbose (int, default=0): Enable verbose output. Note that this setting takes advantage of a per-process runtime setting in liblinear that, if enabled, may not work properly in a multithreaded context.\n",
    "* random_state (int, RandomState instance or None, default=None): The seed of the pseudo random number generator to use when shuffling the data. If int, random_state is the seed used by the random number generator; If RandomState instance, random_state is the random number generator; If None, the random number generator is the RandomState instance used by np.random.\n",
    "* max_iter (int, default=1000): The maximum number of iterations to be run.\n",
    "\n",
    "We use default values for all above parameters."
   ]
  },
  {
   "cell_type": "code",
   "execution_count": 28,
   "metadata": {},
   "outputs": [],
   "source": [
    "from sklearn.svm import LinearSVC\n",
    "svm = LinearSVC()"
   ]
  },
  {
   "cell_type": "code",
   "execution_count": 29,
   "metadata": {},
   "outputs": [
    {
     "name": "stdout",
     "output_type": "stream",
     "text": [
      "0.966283524904\n",
      "0.961164021164\n",
      "0.975056941969\n"
     ]
    }
   ],
   "source": [
    "accuracy=cross_val_score(svm,train,train_class,cv=ea,scoring='accuracy')\n",
    "f1=cross_val_score(svm,train,train_class,cv=ea,scoring='f1_macro')\n",
    "roc=mean_roc_auc(svm,train,train_class,a)\n",
    "print(accuracy.mean())\n",
    "print(f1.mean())\n",
    "print(roc[\"auc\"])"
   ]
  },
  {
   "cell_type": "code",
   "execution_count": 30,
   "metadata": {},
   "outputs": [
    {
     "data": {
      "image/png": "[encoded data removed]",
      "text/plain": [
       "<matplotlib.figure.Figure at 0x7f8a53db4c88>"
      ]
     },
     "metadata": {},
     "output_type": "display_data"
    }
   ],
   "source": [
    "draw(roc)"
   ]
  },
  {
   "cell_type": "markdown",
   "metadata": {},
   "source": [
    "### 4.6. Ensemble Classifier\n",
    "class sklearn.ensemble.RandomForestClassifier(n_estimators=10, criterion=’gini’, max_depth=None, min_samples_split=2, min_samples_leaf=1, min_weight_fraction_leaf=0.0, max_features=’auto’, max_leaf_nodes=None, min_impurity_decrease=0.0, min_impurity_split=None, bootstrap=True, oob_score=False, n_jobs=1, random_state=None, verbose=0, warm_start=False, class_weight=None)\n",
    "#### Tunable Parameters\n",
    "* n_estimators (integer, default=10): The number of trees in the forest.\n",
    "* criterion (string, default=”gini”): The function to measure the quality of a split. Supported criteria are “gini” for the Gini impurity and “entropy” for the information gain. Note: this parameter is tree-specific.\n",
    "* max_features (int, float, string or None, default=”auto”): The number of features to consider when looking for the best split. If int, then consider max_features features at each split. If float, then max_features is a percentage and int(max_features * n_features) features are considered at each split. If “auto”, then max_features=sqrt(n_features). If “sqrt”, then max_features=sqrt(n_features) (same as “auto”). If “log2”, then max_features=log2(n_features). If None, then max_features=n_features.\n",
    "* max_depth  (integer or None, default=None): The maximum depth of the tree. If None, then nodes are expanded until all leaves are pure or until all leaves contain less than min_samples_split samples.\n",
    "* min_samples_split (int, float, default=2): The minimum number of samples required to split an internal node. If int, then consider min_samples_split as the minimum number. If float, then min_samples_split is a percentage and ceil(min_samples_split * n_samples) are the minimum number of samples for each split.\n",
    "* min_samples_leaf (int, float, default=1): The minimum number of samples required to be at a leaf node. If int, then consider min_samples_leaf as the minimum number. If float, then min_samples_leaf is a percentage and ceil(min_samples_leaf * n_samples) are the minimum number of samples for each node.\n",
    "* min_weight_fraction_leaf (float, default=0.): The minimum weighted fraction of the sum total of weights (of all the input samples) required to be at a leaf node. Samples have equal weight when sample_weight is not provided.\n",
    "* max_leaf_nodes (int or None, default=None): Grow trees with max_leaf_nodes in best-first fashion. Best nodes are defined as relative reduction in impurity. If None then unlimited number of leaf nodes. \n",
    "* min_impurity_split (float): Threshold for early stopping in tree growth. A node will split if its impurity is above the threshold, otherwise it is a leaf.\n",
    "* min_impurity_decrease (float, default=0.): A node will be split if this split induces a decrease of the impurity greater than or equal to this value.\n",
    "* bootstrap (boolean, default=True): Whether bootstrap samples are used when building trees.\n",
    "* oob_score (bool, default=False): Whether to use out-of-bag samples to estimate the generalization accuracy.\n",
    "* n_jobs (integer, default=1): The number of jobs to run in parallel for both fit and predict. If -1, then the number of jobs is set to the number of cores.\n",
    "* random_state (int, RandomState instance or None, default=None): If int, random_state is the seed used by the random number generator; If RandomState instance, random_state is the random number generator; If None, the random number generator is the RandomState instance used by np.random.\n",
    "* verbose (int, default=0): Controls the verbosity of the tree building process.\n",
    "* warm_start (bool, default=False): When set to True, reuse the solution of the previous call to fit and add more estimators to the ensemble, otherwise, just fit a whole new forest.\n",
    "* class_weight (dict, list of dicts, “balanced”, “balanced_subsample” or None, default=None): Weights associated with classes in the form {class_label: weight}. If not given, all classes are supposed to have weight one. For multi-output problems, a list of dicts can be provided in the same order as the columns of y.\n",
    "\n",
    "We use default values for all above parameters."
   ]
  },
  {
   "cell_type": "code",
   "execution_count": 31,
   "metadata": {},
   "outputs": [],
   "source": [
    "from sklearn.ensemble import RandomForestClassifier\n",
    "ensemble = RandomForestClassifier()"
   ]
  },
  {
   "cell_type": "code",
   "execution_count": 32,
   "metadata": {},
   "outputs": [
    {
     "name": "stdout",
     "output_type": "stream",
     "text": [
      "0.988888888889\n",
      "0.967028196142\n",
      "0.980346768337\n"
     ]
    }
   ],
   "source": [
    "accuracy=cross_val_score(ensemble,train,train_class,cv=ea,scoring='accuracy')\n",
    "f1=cross_val_score(ensemble,train,train_class,cv=ea,scoring='f1_macro')\n",
    "roc=mean_roc_auc(ensemble,train,train_class,a)\n",
    "print(accuracy.mean())\n",
    "print(f1.mean())\n",
    "print(roc[\"auc\"])"
   ]
  },
  {
   "cell_type": "code",
   "execution_count": 33,
   "metadata": {},
   "outputs": [
    {
     "data": {
      "image/png": "[encoded data removed]",
      "text/plain": [
       "<matplotlib.figure.Figure at 0x7f8a53da3d30>"
      ]
     },
     "metadata": {},
     "output_type": "display_data"
    }
   ],
   "source": [
    "draw(roc)"
   ]
  },
  {
   "cell_type": "markdown",
   "metadata": {
    "collapsed": true
   },
   "source": [
    "From the validation statistics of above classifier models, we can see that the k-nearest neighbors, naive bayes, artificial neural network, support vector machine, and ensemle classifier all achieve high accuracies, F1 scores, and AUCs. The good performance of KNN classifier also indicates a feature of this dataset: data of the same category tend to cluster.\n",
    "\n",
    "From the above classifiers, we prefer the Naive Bayes classifier because it is relatively simple but can still achieve excellent performance. \n",
    "## 5. Make Predictions and Evaluate Performance on the Test Set\n",
    "### 5.1. k-Nearsest Neighbors\n",
    "The k-Nearsest Neighbors Prediction works well on the test set."
   ]
  },
  {
   "cell_type": "code",
   "execution_count": 34,
   "metadata": {},
   "outputs": [
    {
     "name": "stdout",
     "output_type": "stream",
     "text": [
      "0.943295019157\n",
      "0.94353315656\n",
      "0.964680178496\n"
     ]
    }
   ],
   "source": [
    "accuracy=cross_val_score(neigh,test,test_class,cv=ea,scoring='accuracy')\n",
    "f1=cross_val_score(neigh,test,test_class,cv=ea,scoring='f1_macro')\n",
    "roc=mean_roc_auc(neigh,test,test_class,a)\n",
    "print(accuracy.mean())\n",
    "print(f1.mean())\n",
    "print(roc[\"auc\"])"
   ]
  },
  {
   "cell_type": "markdown",
   "metadata": {},
   "source": [
    "### 5.2. Decision Tree\n",
    "The decision tree classifier does not generate well on the test set. One possible reason is that decision trees are more dependent on the training dataset. A small change in the training data can lead to a large change in the structure of the optimal decision tree."
   ]
  },
  {
   "cell_type": "code",
   "execution_count": 35,
   "metadata": {},
   "outputs": [
    {
     "name": "stdout",
     "output_type": "stream",
     "text": [
      "0.854022988506\n",
      "0.859141648017\n",
      "0.865279750445\n"
     ]
    }
   ],
   "source": [
    "accuracy=cross_val_score(decisionTree,test,test_class,cv=ea,scoring='accuracy')\n",
    "f1=cross_val_score(decisionTree,test,test_class,cv=ea,scoring='f1_macro')\n",
    "roc=mean_roc_auc(decisionTree,test,test_class,a)\n",
    "print(accuracy.mean())\n",
    "print(f1.mean())\n",
    "print(roc[\"auc\"])"
   ]
  },
  {
   "cell_type": "markdown",
   "metadata": {},
   "source": [
    "### 5.3. Naive Bayes\n",
    "The Naive Bayes classifier generates well on the test set."
   ]
  },
  {
   "cell_type": "code",
   "execution_count": 36,
   "metadata": {},
   "outputs": [
    {
     "name": "stdout",
     "output_type": "stream",
     "text": [
      "0.932567049808\n",
      "0.936110564627\n",
      "0.957204223652\n"
     ]
    }
   ],
   "source": [
    "accuracy=cross_val_score(naiveBayes,test,test_class,cv=ea,scoring='accuracy')\n",
    "f1=cross_val_score(naiveBayes,test,test_class,cv=ea,scoring='f1_macro')\n",
    "roc=mean_roc_auc(naiveBayes,test,test_class,a)\n",
    "print(accuracy.mean())\n",
    "print(f1.mean())\n",
    "print(roc[\"auc\"])"
   ]
  },
  {
   "cell_type": "markdown",
   "metadata": {},
   "source": [
    "### 5.4. Artificial Neural Network\n",
    "The artificial neural network classifier generates well on the test set."
   ]
  },
  {
   "cell_type": "code",
   "execution_count": 37,
   "metadata": {},
   "outputs": [
    {
     "name": "stdout",
     "output_type": "stream",
     "text": [
      "0.954789272031\n",
      "0.94353315656\n",
      "0.972045498361\n"
     ]
    }
   ],
   "source": [
    "accuracy=cross_val_score(neuralNetwork,test,test_class,cv=ea,scoring='accuracy')\n",
    "f1=cross_val_score(neuralNetwork,test,test_class,cv=ea,scoring='f1_macro')\n",
    "roc=mean_roc_auc(neuralNetwork,test,test_class,a)\n",
    "print(accuracy.mean())\n",
    "print(f1.mean())\n",
    "print(roc[\"auc\"])"
   ]
  },
  {
   "cell_type": "markdown",
   "metadata": {},
   "source": [
    "### 5.5. Support Vector Machine\n",
    "The SVM classifier generates well on the test set."
   ]
  },
  {
   "cell_type": "code",
   "execution_count": 38,
   "metadata": {},
   "outputs": [
    {
     "name": "stdout",
     "output_type": "stream",
     "text": [
      "0.954406130268\n",
      "0.958688024409\n",
      "0.972045498361\n"
     ]
    }
   ],
   "source": [
    "accuracy=cross_val_score(svm,test,test_class,cv=ea,scoring='accuracy')\n",
    "f1=cross_val_score(svm,test,test_class,cv=ea,scoring='f1_macro')\n",
    "roc=mean_roc_auc(svm,test,test_class,a)\n",
    "print(accuracy.mean())\n",
    "print(f1.mean())\n",
    "print(roc[\"auc\"])"
   ]
  },
  {
   "cell_type": "markdown",
   "metadata": {},
   "source": [
    "### 5.6. Ensemble Classifier\n",
    "The ensemble classifier generates well on the test set."
   ]
  },
  {
   "cell_type": "code",
   "execution_count": 39,
   "metadata": {},
   "outputs": [
    {
     "name": "stdout",
     "output_type": "stream",
     "text": [
      "0.94367816092\n",
      "0.913154863828\n",
      "0.915739832922\n"
     ]
    }
   ],
   "source": [
    "accuracy=cross_val_score(ensemble,test,test_class,cv=ea,scoring='accuracy')\n",
    "f1=cross_val_score(ensemble,test,test_class,cv=ea,scoring='f1_macro')\n",
    "roc=mean_roc_auc(ensemble,test,test_class,a)\n",
    "print(accuracy.mean())\n",
    "print(f1.mean())\n",
    "print(roc[\"auc\"])"
   ]
  },
  {
   "cell_type": "markdown",
   "metadata": {},
   "source": [
    "## 6. Exceptional work\n",
    "### 6.1. Hyper-parameter optimizer\n",
    "In this section, we optimize several parameters for the decision tree classifier using sklearn.model_selection.GridSearchCV. The optimized parameters are 'criterion', 'splitter', 'max_depth', 'max_features', and 'min_samples_split'. The optimization results are as follows."
   ]
  },
  {
   "cell_type": "code",
   "execution_count": 40,
   "metadata": {},
   "outputs": [
    {
     "data": {
      "text/plain": [
       "{'class_weight': None,\n",
       " 'criterion': 'entropy',\n",
       " 'max_depth': 16,\n",
       " 'max_features': 2,\n",
       " 'max_leaf_nodes': None,\n",
       " 'min_impurity_decrease': 0.0,\n",
       " 'min_impurity_split': None,\n",
       " 'min_samples_leaf': 1,\n",
       " 'min_samples_split': 6,\n",
       " 'min_weight_fraction_leaf': 0.0,\n",
       " 'presort': False,\n",
       " 'random_state': None,\n",
       " 'splitter': 'best'}"
      ]
     },
     "execution_count": 40,
     "metadata": {},
     "output_type": "execute_result"
    }
   ],
   "source": [
    "from sklearn.model_selection import GridSearchCV\n",
    "testDecisionTree = DecisionTreeClassifier()\n",
    "parameters = {'criterion':('gini', 'entropy'), 'splitter':('best', 'random'), \n",
    "              'max_depth':list(range(1,20)),'max_features':list(range(1,12)),'min_samples_split':list(range(2,20))}\n",
    "clf = GridSearchCV(testDecisionTree, parameters)\n",
    "clf.fit(train,train_class)\n",
    "clf.best_estimator_.get_params() \n",
    "bestDecisionTree = clf.best_estimator_\n",
    "bestDecisionTree.get_params() "
   ]
  },
  {
   "cell_type": "code",
   "execution_count": 41,
   "metadata": {},
   "outputs": [
    {
     "name": "stdout",
     "output_type": "stream",
     "text": [
      "0.775862068966\n",
      "0.807783284254\n",
      "0.889186955879\n"
     ]
    }
   ],
   "source": [
    "accuracy=cross_val_score(bestDecisionTree,test,test_class,cv=ea,scoring='accuracy')\n",
    "f1=cross_val_score(bestDecisionTree,test,test_class,cv=ea,scoring='f1_macro')\n",
    "roc=mean_roc_auc(bestDecisionTree,test,test_class,a)\n",
    "print(accuracy.mean())\n",
    "print(f1.mean())\n",
    "print(roc[\"auc\"])"
   ]
  },
  {
   "cell_type": "markdown",
   "metadata": {},
   "source": [
    "The performance statistics of the decision tree classifier doesn't improve much with the optimized classifier. Also, when testing the parameter optimization process, we observed that the optimized results differ. Two possible reasons are: 1) the grid parameter searching algorithm converges to a local optimal point, or 2) the decision tree classifier is very sensitive to the changing data (the shuffled training dataset in cross validation).\n",
    "### 6.2. K-nearest neighbors metrics\n",
    "We choose four popular metrics for the k-nearest neighbors: Euclidean distance, Manhattan distance, Chebyshev distance, and Minkowski distance with p from 3 to 20. First we compare the first three metrics using GridSearchCV optimization. The Euclidean distance outperforms the other two metrics."
   ]
  },
  {
   "cell_type": "code",
   "execution_count": 42,
   "metadata": {},
   "outputs": [
    {
     "data": {
      "text/plain": [
       "{'algorithm': 'auto',\n",
       " 'leaf_size': 30,\n",
       " 'metric': 'euclidean',\n",
       " 'metric_params': None,\n",
       " 'n_jobs': -1,\n",
       " 'n_neighbors': 5,\n",
       " 'p': 2,\n",
       " 'weights': 'uniform'}"
      ]
     },
     "execution_count": 42,
     "metadata": {},
     "output_type": "execute_result"
    }
   ],
   "source": [
    "testNeigh = KNeighborsClassifier(n_jobs=-1)\n",
    "parameters = {'metric':('euclidean', 'manhattan','chebyshev')}\n",
    "clf = GridSearchCV(testNeigh, parameters)\n",
    "clf.fit(train,train_class)\n",
    "clf.best_estimator_.get_params() \n",
    "bestNeigh = clf.best_estimator_\n",
    "bestNeigh.get_params() "
   ]
  },
  {
   "cell_type": "markdown",
   "metadata": {},
   "source": [
    "Next, we compare the Euclidean distance with the Minkowski distances with p from 3 to 20. Since the Euclidean distance is a special case of Minkowski distance with p=2, we only set p to be the parameter to optimize. From the optimization results, p=2 gives the best system performance."
   ]
  },
  {
   "cell_type": "code",
   "execution_count": 43,
   "metadata": {},
   "outputs": [
    {
     "data": {
      "text/plain": [
       "{'algorithm': 'auto',\n",
       " 'leaf_size': 30,\n",
       " 'metric': 'minkowski',\n",
       " 'metric_params': None,\n",
       " 'n_jobs': -1,\n",
       " 'n_neighbors': 5,\n",
       " 'p': 2,\n",
       " 'weights': 'uniform'}"
      ]
     },
     "execution_count": 43,
     "metadata": {},
     "output_type": "execute_result"
    }
   ],
   "source": [
    "testNeigh2 = KNeighborsClassifier(n_jobs=-1)\n",
    "parameters = {'p':list(range(2,20))}\n",
    "clf = GridSearchCV(testNeigh, parameters)\n",
    "clf.fit(train,train_class)\n",
    "clf.best_estimator_.get_params() \n",
    "bestNeigh = clf.best_estimator_\n",
    "bestNeigh.get_params() "
   ]
  },
  {
   "cell_type": "code",
   "execution_count": 44,
   "metadata": {},
   "outputs": [
    {
     "name": "stdout",
     "output_type": "stream",
     "text": [
      "0.943295019157\n",
      "0.94353315656\n",
      "0.964680178496\n"
     ]
    }
   ],
   "source": [
    "accuracy=cross_val_score(bestNeigh,test,test_class,cv=ea,scoring='accuracy')\n",
    "f1=cross_val_score(bestNeigh,test,test_class,cv=ea,scoring='f1_macro')\n",
    "roc=mean_roc_auc(bestNeigh,test,test_class,a)\n",
    "print(accuracy.mean())\n",
    "print(f1.mean())\n",
    "print(roc[\"auc\"])"
   ]
  },
  {
   "cell_type": "markdown",
   "metadata": {
    "collapsed": true
   },
   "source": [
    "The performance statistics are as above."
   ]
  }
 ],
 "metadata": {
  "kernelspec": {
   "display_name": "Python 3",
   "language": "python",
   "name": "python3"
  },
  "language_info": {
   "codemirror_mode": {
    "name": "ipython",
    "version": 3
   },
   "file_extension": ".py",
   "mimetype": "text/x-python",
   "name": "python",
   "nbconvert_exporter": "python",
   "pygments_lexer": "ipython3",
   "version": "3.7.0"
  }
 },
 "nbformat": 4,
 "nbformat_minor": 2
}
