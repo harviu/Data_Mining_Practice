{
 "cells": [
  {
   "cell_type": "markdown",
   "metadata": {},
   "source": [
    "CSE 5243 \n",
    "\n",
    "# Lab 2: k-Nearest Neighbors\n",
    "\n",
    "Feb. 12th, 2018"
   ]
  },
  {
   "cell_type": "markdown",
   "metadata": {},
   "source": [
    "## 1. Implement a Custom Proximity Function"
   ]
  },
  {
   "cell_type": "code",
   "execution_count": 6,
   "metadata": {},
   "outputs": [],
   "source": [
    "import pandas as pd\n",
    "import numpy as np\n",
    "df=pd.read_csv(\"lab2/income_tr.csv\", sep=',', na_values=[\" ?\"],engine='python')"
   ]
  },
  {
   "cell_type": "markdown",
   "metadata": {
    "collapsed": true
   },
   "source": [
    "## Proximity Function\n",
    "\n",
    "The Proximity Function is calculating the mean square of the distances of different attributes between two subjects as **dissimilarity**. For a continuous attribute, the distance is defined as *(Vsubj1 - Vsubj2) / RofAttr*. Howerver, for a nominal attribute, the distance is 0 if the value matches or 1 if the values do not match. The function is implemented as following."
   ]
  },
  {
   "cell_type": "code",
   "execution_count": 7,
   "metadata": {},
   "outputs": [],
   "source": [
    "r={}\n",
    "# Calculate and Store the Range for every columns\n",
    "for item in df.columns:\n",
    "    if type(df[item][0])==type((df.loc[0])['age']):\n",
    "        r[item]=df[item].max()-df[item].min()\n",
    "        \n",
    "\n",
    "def dissimilarity(ob1,ob2):\n",
    "    '''\n",
    "    function for calculating dissimilarity\n",
    "    '''\n",
    "    dis=0\n",
    "    sum=0\n",
    "    length=0\n",
    "    for item in df.columns:\n",
    "        if item!='ID' and item!='class':\n",
    "            length+=1\n",
    "            if type(ob1[item])==type((df.loc[0])['age']):\n",
    "                dis=(ob1[item]-ob2[item])/r[item]\n",
    "            elif ob1[item]==ob2[item]:\n",
    "                dis=0\n",
    "            else:\n",
    "                dis=1\n",
    "        sum+=dis*dis\n",
    "    dissimilarity=sum/length\n",
    "    return dissimilarity"
   ]
  },
  {
   "cell_type": "markdown",
   "metadata": {},
   "source": [
    "The function cul is for calculating the distance for every 2 subjects in the training dataset. "
   ]
  },
  {
   "cell_type": "code",
   "execution_count": 8,
   "metadata": {},
   "outputs": [
    {
     "ename": "KeyboardInterrupt",
     "evalue": "",
     "output_type": "error",
     "traceback": [
      "\u001b[0;31m---------------------------------------------------------------------------\u001b[0m",
      "\u001b[0;31mKeyboardInterrupt\u001b[0m                         Traceback (most recent call last)",
      "\u001b[0;32m<ipython-input-8-033257f8adcb>\u001b[0m in \u001b[0;36m<module>\u001b[0;34m()\u001b[0m\n\u001b[1;32m     43\u001b[0m \u001b[0;34m\u001b[0m\u001b[0m\n\u001b[1;32m     44\u001b[0m     \u001b[0;32mreturn\u001b[0m \u001b[0moutput\u001b[0m\u001b[0;34m\u001b[0m\u001b[0m\n\u001b[0;32m---> 45\u001b[0;31m \u001b[0msimdf\u001b[0m\u001b[0;34m=\u001b[0m\u001b[0mcul\u001b[0m\u001b[0;34m(\u001b[0m\u001b[0;36m4\u001b[0m\u001b[0;34m)\u001b[0m\u001b[0;34m\u001b[0m\u001b[0m\n\u001b[0m",
      "\u001b[0;32m<ipython-input-8-033257f8adcb>\u001b[0m in \u001b[0;36mcul\u001b[0;34m(k)\u001b[0m\n\u001b[1;32m     21\u001b[0m                 \u001b[0mdis\u001b[0m\u001b[0;34m=\u001b[0m\u001b[0msimMat\u001b[0m\u001b[0;34m[\u001b[0m\u001b[0mj\u001b[0m\u001b[0;34m]\u001b[0m\u001b[0;34m[\u001b[0m\u001b[0mi\u001b[0m\u001b[0;34m]\u001b[0m\u001b[0;34m\u001b[0m\u001b[0m\n\u001b[1;32m     22\u001b[0m             \u001b[0;32melse\u001b[0m\u001b[0;34m:\u001b[0m\u001b[0;34m\u001b[0m\u001b[0m\n\u001b[0;32m---> 23\u001b[0;31m                 \u001b[0mdis\u001b[0m\u001b[0;34m=\u001b[0m\u001b[0mdissimilarity\u001b[0m\u001b[0;34m(\u001b[0m\u001b[0mdf\u001b[0m\u001b[0;34m.\u001b[0m\u001b[0mloc\u001b[0m\u001b[0;34m[\u001b[0m\u001b[0mi\u001b[0m\u001b[0;34m]\u001b[0m\u001b[0;34m,\u001b[0m\u001b[0mdf\u001b[0m\u001b[0;34m.\u001b[0m\u001b[0mloc\u001b[0m\u001b[0;34m[\u001b[0m\u001b[0mj\u001b[0m\u001b[0;34m]\u001b[0m\u001b[0;34m)\u001b[0m\u001b[0;34m\u001b[0m\u001b[0m\n\u001b[0m\u001b[1;32m     24\u001b[0m                 \u001b[0msimMat\u001b[0m\u001b[0;34m[\u001b[0m\u001b[0mi\u001b[0m\u001b[0;34m]\u001b[0m\u001b[0;34m[\u001b[0m\u001b[0mj\u001b[0m\u001b[0;34m]\u001b[0m\u001b[0;34m=\u001b[0m\u001b[0mdis\u001b[0m\u001b[0;34m\u001b[0m\u001b[0m\n\u001b[1;32m     25\u001b[0m             \u001b[0mkk\u001b[0m\u001b[0;34m=\u001b[0m\u001b[0;36m0\u001b[0m\u001b[0;34m\u001b[0m\u001b[0m\n",
      "\u001b[0;32m<ipython-input-7-ce92c71d6033>\u001b[0m in \u001b[0;36mdissimilarity\u001b[0;34m(ob1, ob2)\u001b[0m\n\u001b[1;32m     16\u001b[0m         \u001b[0;32mif\u001b[0m \u001b[0mitem\u001b[0m\u001b[0;34m!=\u001b[0m\u001b[0;34m'ID'\u001b[0m \u001b[0;32mand\u001b[0m \u001b[0mitem\u001b[0m\u001b[0;34m!=\u001b[0m\u001b[0;34m'class'\u001b[0m\u001b[0;34m:\u001b[0m\u001b[0;34m\u001b[0m\u001b[0m\n\u001b[1;32m     17\u001b[0m             \u001b[0mlength\u001b[0m\u001b[0;34m+=\u001b[0m\u001b[0;36m1\u001b[0m\u001b[0;34m\u001b[0m\u001b[0m\n\u001b[0;32m---> 18\u001b[0;31m             \u001b[0;32mif\u001b[0m \u001b[0mtype\u001b[0m\u001b[0;34m(\u001b[0m\u001b[0mob1\u001b[0m\u001b[0;34m[\u001b[0m\u001b[0mitem\u001b[0m\u001b[0;34m]\u001b[0m\u001b[0;34m)\u001b[0m\u001b[0;34m==\u001b[0m\u001b[0mtype\u001b[0m\u001b[0;34m(\u001b[0m\u001b[0;34m(\u001b[0m\u001b[0mdf\u001b[0m\u001b[0;34m.\u001b[0m\u001b[0mloc\u001b[0m\u001b[0;34m[\u001b[0m\u001b[0;36m0\u001b[0m\u001b[0;34m]\u001b[0m\u001b[0;34m)\u001b[0m\u001b[0;34m[\u001b[0m\u001b[0;34m'age'\u001b[0m\u001b[0;34m]\u001b[0m\u001b[0;34m)\u001b[0m\u001b[0;34m:\u001b[0m\u001b[0;34m\u001b[0m\u001b[0m\n\u001b[0m\u001b[1;32m     19\u001b[0m                 \u001b[0mdis\u001b[0m\u001b[0;34m=\u001b[0m\u001b[0;34m(\u001b[0m\u001b[0mob1\u001b[0m\u001b[0;34m[\u001b[0m\u001b[0mitem\u001b[0m\u001b[0;34m]\u001b[0m\u001b[0;34m-\u001b[0m\u001b[0mob2\u001b[0m\u001b[0;34m[\u001b[0m\u001b[0mitem\u001b[0m\u001b[0;34m]\u001b[0m\u001b[0;34m)\u001b[0m\u001b[0;34m/\u001b[0m\u001b[0mr\u001b[0m\u001b[0;34m[\u001b[0m\u001b[0mitem\u001b[0m\u001b[0;34m]\u001b[0m\u001b[0;34m\u001b[0m\u001b[0m\n\u001b[1;32m     20\u001b[0m             \u001b[0;32melif\u001b[0m \u001b[0mob1\u001b[0m\u001b[0;34m[\u001b[0m\u001b[0mitem\u001b[0m\u001b[0;34m]\u001b[0m\u001b[0;34m==\u001b[0m\u001b[0mob2\u001b[0m\u001b[0;34m[\u001b[0m\u001b[0mitem\u001b[0m\u001b[0;34m]\u001b[0m\u001b[0;34m:\u001b[0m\u001b[0;34m\u001b[0m\u001b[0m\n",
      "\u001b[0;32m/opt/anaconda/lib/python3.6/site-packages/pandas/core/series.py\u001b[0m in \u001b[0;36m__getitem__\u001b[0;34m(self, key)\u001b[0m\n\u001b[1;32m    621\u001b[0m         \u001b[0mkey\u001b[0m \u001b[0;34m=\u001b[0m \u001b[0mcom\u001b[0m\u001b[0;34m.\u001b[0m\u001b[0m_apply_if_callable\u001b[0m\u001b[0;34m(\u001b[0m\u001b[0mkey\u001b[0m\u001b[0;34m,\u001b[0m \u001b[0mself\u001b[0m\u001b[0;34m)\u001b[0m\u001b[0;34m\u001b[0m\u001b[0m\n\u001b[1;32m    622\u001b[0m         \u001b[0;32mtry\u001b[0m\u001b[0;34m:\u001b[0m\u001b[0;34m\u001b[0m\u001b[0m\n\u001b[0;32m--> 623\u001b[0;31m             \u001b[0mresult\u001b[0m \u001b[0;34m=\u001b[0m \u001b[0mself\u001b[0m\u001b[0;34m.\u001b[0m\u001b[0mindex\u001b[0m\u001b[0;34m.\u001b[0m\u001b[0mget_value\u001b[0m\u001b[0;34m(\u001b[0m\u001b[0mself\u001b[0m\u001b[0;34m,\u001b[0m \u001b[0mkey\u001b[0m\u001b[0;34m)\u001b[0m\u001b[0;34m\u001b[0m\u001b[0m\n\u001b[0m\u001b[1;32m    624\u001b[0m \u001b[0;34m\u001b[0m\u001b[0m\n\u001b[1;32m    625\u001b[0m             \u001b[0;32mif\u001b[0m \u001b[0;32mnot\u001b[0m \u001b[0mis_scalar\u001b[0m\u001b[0;34m(\u001b[0m\u001b[0mresult\u001b[0m\u001b[0;34m)\u001b[0m\u001b[0;34m:\u001b[0m\u001b[0;34m\u001b[0m\u001b[0m\n",
      "\u001b[0;32m/opt/anaconda/lib/python3.6/site-packages/pandas/core/indexes/base.py\u001b[0m in \u001b[0;36mget_value\u001b[0;34m(self, series, key)\u001b[0m\n\u001b[1;32m   2558\u001b[0m         \u001b[0;32mtry\u001b[0m\u001b[0;34m:\u001b[0m\u001b[0;34m\u001b[0m\u001b[0m\n\u001b[1;32m   2559\u001b[0m             return self._engine.get_value(s, k,\n\u001b[0;32m-> 2560\u001b[0;31m                                           tz=getattr(series.dtype, 'tz', None))\n\u001b[0m\u001b[1;32m   2561\u001b[0m         \u001b[0;32mexcept\u001b[0m \u001b[0mKeyError\u001b[0m \u001b[0;32mas\u001b[0m \u001b[0me1\u001b[0m\u001b[0;34m:\u001b[0m\u001b[0;34m\u001b[0m\u001b[0m\n\u001b[1;32m   2562\u001b[0m             \u001b[0;32mif\u001b[0m \u001b[0mlen\u001b[0m\u001b[0;34m(\u001b[0m\u001b[0mself\u001b[0m\u001b[0;34m)\u001b[0m \u001b[0;34m>\u001b[0m \u001b[0;36m0\u001b[0m \u001b[0;32mand\u001b[0m \u001b[0mself\u001b[0m\u001b[0;34m.\u001b[0m\u001b[0minferred_type\u001b[0m \u001b[0;32min\u001b[0m \u001b[0;34m[\u001b[0m\u001b[0;34m'integer'\u001b[0m\u001b[0;34m,\u001b[0m \u001b[0;34m'boolean'\u001b[0m\u001b[0;34m]\u001b[0m\u001b[0;34m:\u001b[0m\u001b[0;34m\u001b[0m\u001b[0m\n",
      "\u001b[0;31mKeyboardInterrupt\u001b[0m: "
     ]
    }
   ],
   "source": [
    "def cul(k):\n",
    "    labels=[]\n",
    "    simMat=np.zeros((len(df),len(df)))\n",
    "    for i in range(0,2*k):\n",
    "        ii=np.floor(i/2)\n",
    "        if i%2==0:\n",
    "            labels.append(str(int(ii+1))+'st')\n",
    "        else:\n",
    "            labels.append(str(int(ii+1))+'-prox')\n",
    "    output=pd.DataFrame(columns=labels)\n",
    "    for i in range(0,len(df)):\n",
    "        if False and i%15==0:  # switch to True if the running progress is needed\n",
    "            print(str(i) + \"/\" + str(len(df)) + \"done\")\n",
    "        sim=[[],[]]\n",
    "        length=0\n",
    "        for j in range(0,len(df)):\n",
    "            # culculate and sort dissimilarity\n",
    "            if i==j:\n",
    "                dis=0;\n",
    "            elif i>j:\n",
    "                dis=simMat[j][i]\n",
    "            else:\n",
    "                dis=dissimilarity(df.loc[i],df.loc[j]) \n",
    "                simMat[i][j]=dis\n",
    "            kk=0\n",
    "            for l in range(0,length):\n",
    "                if dis>sim[0][l]:\n",
    "                    kk=l+1\n",
    "                else:\n",
    "                    break\n",
    "            length+=1\n",
    "            sim[0].insert(kk,dis)\n",
    "            sim[1].insert(kk,j)\n",
    "            \n",
    "        #choose the first ks    \n",
    "        newRow=[]\n",
    "        for i in range(0,k):\n",
    "            newRow.append(sim[1][i+1])\n",
    "            newRow.append(sim[0][i+1])\n",
    "                \n",
    "        newdf=pd.DataFrame(data=[newRow],columns=labels)\n",
    "        output=output.append(newdf,ignore_index=True)\n",
    "        \n",
    "    return output\n",
    "simdf=cul(4)"
   ]
  },
  {
   "cell_type": "markdown",
   "metadata": {},
   "source": [
    "This is a sample for the output with k=4"
   ]
  },
  {
   "cell_type": "code",
   "execution_count": null,
   "metadata": {},
   "outputs": [],
   "source": [
    "simdf.sample(5)"
   ]
  },
  {
   "cell_type": "code",
   "execution_count": null,
   "metadata": {},
   "outputs": [],
   "source": [
    "simdf.to_csv('output_part1.csv',sep=',')"
   ]
  },
  {
   "cell_type": "markdown",
   "metadata": {
    "collapsed": true
   },
   "source": [
    "## 2. kNN Classifier\n",
    "\n",
    "In this section, we implement a k-nearest neighbors classifier based on the proximity function described in section 1. The prediction performance is also evaluated with various metrics. \n",
    "\n",
    "For the outputs shown in this section, we set the system parameters to be k=5, proximity threshold = 0.5, positive class = ' >50K', if not otherwise specified.\n",
    "\n",
    "### 2.1. Implement a kNN Classifier\n",
    "\n",
    "First, we import the test set. A sample of 5 records of the test set is as follows."
   ]
  },
  {
   "cell_type": "code",
   "execution_count": null,
   "metadata": {},
   "outputs": [],
   "source": [
    "te = pd.read_csv(\"income_te.csv\", sep=',', na_values=[\" ?\"],engine='python')\n",
    "te.sample(5)"
   ]
  },
  {
   "cell_type": "markdown",
   "metadata": {},
   "source": [
    "The kNN classifier is implemented with the following two functions. The function $knnDists$ takes the training set $tr$, test set $te$, and k value as input, and returns a dictionary storing the distances between data in the training set and data in the test set. The function $knnClassify$ classifies all the records in the test set based on their distances with k nearest neighbors in the training set. It takes the training and test dataset ($te$ and $tr$), the distance dictionary from $knnDists$, the interested attribute $targetClass$, the proximity threshold $t$ and its corresponding class value $tClass$ as input, and outputs the classification results."
   ]
  },
  {
   "cell_type": "code",
   "execution_count": null,
   "metadata": {},
   "outputs": [],
   "source": [
    "def knnDists(te, tr, k=5):   \n",
    "    res = {}\n",
    "    for iTe in range(0,len(te)):\n",
    "        if True and iTe%15==0:  # switch to True if the running progress is needed\n",
    "            print(str(iTe) + \"/\" + str(len(te)) + \"done\")\n",
    "        distDic = {}\n",
    "        distMax = None # current max dist\n",
    "        for iTr in range(0,len(tr)):\n",
    "            dist = dissimilarity(te.loc[iTe], tr.loc[iTr]) \n",
    "            # not a great improvement\n",
    "            if len(distDic)<k: \n",
    "                distDic[iTr] = dist\n",
    "                if distMax==None or dist>distMax:\n",
    "                    distMax = dist\n",
    "                continue\n",
    "            if dist<distMax:\n",
    "                distDic[iTr] = dist\n",
    "            # distDic[iTr] = dist\n",
    "        knnDistDic = {}\n",
    "        for iKey in sorted(distDic, key=distDic.get):\n",
    "            knnDistDic[iKey] = distDic[iKey]\n",
    "            if len(knnDistDic)>=k:\n",
    "                break\n",
    "        res[iTe] = knnDistDic        \n",
    "    return res\n",
    "\n",
    "\n",
    "def knnClassify(te, tr, knnDistDic, targetClass, k=5, tClass=' >50K', t=0.5):\n",
    "    res = {}\n",
    "    for iTe in range(0,len(te)):\n",
    "        iTeRes = {}\n",
    "        classDic = {}\n",
    "        knn = knnDistDic[iTe]\n",
    "        if len(knn)>k:\n",
    "            knn = sorted(knn,key=knn.get)[0:k]\n",
    "        for iTr in knn:\n",
    "            if tr.loc[iTr][targetClass] not in classDic:\n",
    "                classDic[tr.loc[iTr][targetClass]] = 1\n",
    "            else:\n",
    "                classDic[tr.loc[iTr][targetClass]] += 1\n",
    "        iTeRes['class'] = sorted(classDic, key=classDic.get, reverse=True)[0]\n",
    "        iTeRes['prob'] = classDic[iTeRes['class']]/sum(classDic.values()) \n",
    "        if iTeRes['prob']<t:\n",
    "            iTeRes['class'] = sorted(classDic, key=classDic.get, reverse=True)[1]\n",
    "            iTeRes['prob'] = classDic[iTeRes['class']]/sum(classDic.values()) \n",
    "        res[iTe] = iTeRes\n",
    "    return res        "
   ]
  },
  {
   "cell_type": "code",
   "execution_count": null,
   "metadata": {},
   "outputs": [],
   "source": [
    "# be patient\n",
    "knnDistDic = knnDists(te, df)"
   ]
  },
  {
   "cell_type": "code",
   "execution_count": 19,
   "metadata": {
    "collapsed": true
   },
   "outputs": [],
   "source": [
    "knnClasses = knnClassify(te, df, knnDistDic, 'class')"
   ]
  },
  {
   "cell_type": "markdown",
   "metadata": {},
   "source": [
    "Get the required format and export the results as a csv file."
   ]
  },
  {
   "cell_type": "code",
   "execution_count": 20,
   "metadata": {
    "collapsed": true
   },
   "outputs": [],
   "source": [
    "def formatOutput(te, knnResDic, targetClass):\n",
    "    labels = ['Transaction ID', 'Actual Class', 'Predicted Class', 'Posterior probability']\n",
    "    output = pd.DataFrame(columns=labels)\n",
    "    for iTe in range(0,len(te)):\n",
    "        row = [iTe,]\n",
    "        row.append(te.loc[iTe][targetClass])\n",
    "        row.append(knnResDic[iTe]['class'])\n",
    "        row.append(knnResDic[iTe]['prob'])\n",
    "        output = output.append(pd.DataFrame(data=[row], columns=labels), ignore_index=True)\n",
    "    return output"
   ]
  },
  {
   "cell_type": "code",
   "execution_count": 21,
   "metadata": {
    "collapsed": true
   },
   "outputs": [],
   "source": [
    "knnOutput = formatOutput(te, knnClasses, 'class')\n",
    "knnOutput.to_csv('output_part2.csv',sep=',',index=False)"
   ]
  },
  {
   "cell_type": "markdown",
   "metadata": {},
   "source": [
    "A sample of 5 records of the output is as follows:"
   ]
  },
  {
   "cell_type": "code",
   "execution_count": 22,
   "metadata": {},
   "outputs": [
    {
     "data": {
      "text/html": [
       "<div>\n",
       "<style>\n",
       "    .dataframe thead tr:only-child th {\n",
       "        text-align: right;\n",
       "    }\n",
       "\n",
       "    .dataframe thead th {\n",
       "        text-align: left;\n",
       "    }\n",
       "\n",
       "    .dataframe tbody tr th {\n",
       "        vertical-align: top;\n",
       "    }\n",
       "</style>\n",
       "<table border=\"1\" class=\"dataframe\">\n",
       "  <thead>\n",
       "    <tr style=\"text-align: right;\">\n",
       "      <th></th>\n",
       "      <th>Transaction ID</th>\n",
       "      <th>Actual Class</th>\n",
       "      <th>Predicted Class</th>\n",
       "      <th>Posterior probability</th>\n",
       "    </tr>\n",
       "  </thead>\n",
       "  <tbody>\n",
       "    <tr>\n",
       "      <th>188</th>\n",
       "      <td>188</td>\n",
       "      <td>&lt;=50K</td>\n",
       "      <td>&lt;=50K</td>\n",
       "      <td>1.0</td>\n",
       "    </tr>\n",
       "    <tr>\n",
       "      <th>51</th>\n",
       "      <td>51</td>\n",
       "      <td>&lt;=50K</td>\n",
       "      <td>&lt;=50K</td>\n",
       "      <td>1.0</td>\n",
       "    </tr>\n",
       "    <tr>\n",
       "      <th>64</th>\n",
       "      <td>64</td>\n",
       "      <td>&lt;=50K</td>\n",
       "      <td>&lt;=50K</td>\n",
       "      <td>0.8</td>\n",
       "    </tr>\n",
       "    <tr>\n",
       "      <th>242</th>\n",
       "      <td>242</td>\n",
       "      <td>&lt;=50K</td>\n",
       "      <td>&lt;=50K</td>\n",
       "      <td>0.8</td>\n",
       "    </tr>\n",
       "    <tr>\n",
       "      <th>86</th>\n",
       "      <td>86</td>\n",
       "      <td>&gt;50K</td>\n",
       "      <td>&gt;50K</td>\n",
       "      <td>1.0</td>\n",
       "    </tr>\n",
       "  </tbody>\n",
       "</table>\n",
       "</div>"
      ],
      "text/plain": [
       "    Transaction ID Actual Class Predicted Class  Posterior probability\n",
       "188            188        <=50K           <=50K                    1.0\n",
       "51              51        <=50K           <=50K                    1.0\n",
       "64              64        <=50K           <=50K                    0.8\n",
       "242            242        <=50K           <=50K                    0.8\n",
       "86              86         >50K            >50K                    1.0"
      ]
     },
     "execution_count": 22,
     "metadata": {},
     "output_type": "execute_result"
    }
   ],
   "source": [
    "knnOutput.sample(5)"
   ]
  },
  {
   "cell_type": "markdown",
   "metadata": {
    "collapsed": true
   },
   "source": [
    "### 2.2. Performance evaluation\n",
    "In this section, we will evaluation the system performance with various metrics.\n",
    "\n",
    "First, we count the true positives, true negatives, false positives, and false negatives; and then calculate the corresponding rates."
   ]
  },
  {
   "cell_type": "code",
   "execution_count": 23,
   "metadata": {},
   "outputs": [
    {
     "name": "stdout",
     "output_type": "stream",
     "text": [
      "true negative count = 190\n",
      "true negative rate = 65.97%\n",
      "false negative count = 43\n",
      "false negative rate = 14.93%\n",
      "true positive count = 24\n",
      "true positive rate = 8.33%\n",
      "false positive count = 31\n",
      "false positive rate = 10.76%\n"
     ]
    }
   ],
   "source": [
    "# Counts\n",
    "def countStat(knnOutput, posClass):\n",
    "    stat = {} # for true positive, true negative, false positive, and false negative\n",
    "    for iTe in range(0,len(knnOutput)):\n",
    "        if knnOutput.iloc[iTe][\"Predicted Class\"] == posClass:\n",
    "            if knnOutput.iloc[iTe][\"Actual Class\"] == posClass:\n",
    "                if 'true positive' not in stat:\n",
    "                    stat['true positive'] = 1\n",
    "                else:\n",
    "                    stat['true positive'] += 1\n",
    "            else:\n",
    "                if 'false positive' not in stat:\n",
    "                    stat['false positive'] = 1\n",
    "                else:\n",
    "                    stat['false positive'] += 1\n",
    "        else:\n",
    "            if knnOutput.iloc[iTe][\"Actual Class\"] == posClass:\n",
    "                if 'false negative' not in stat:\n",
    "                    stat['false negative'] = 1\n",
    "                else:\n",
    "                    stat['false negative'] += 1\n",
    "            else:\n",
    "                if 'true negative' not in stat:\n",
    "                    stat['true negative'] = 1\n",
    "                else:\n",
    "                    stat['true negative'] += 1\n",
    "    return stat\n",
    "\n",
    "                    \n",
    "stat = countStat(knnOutput, ' >50K')\n",
    "\n",
    "# Calculate the rates\n",
    "for i in stat:\n",
    "    print(i + \" count = \" + str(stat[i]))\n",
    "    print(i + \" rate = \" + str(round(stat[i]/sum(stat.values())*100,2)) + \"%\")"
   ]
  },
  {
   "cell_type": "markdown",
   "metadata": {},
   "source": [
    "Thus the confusion matrix is,\n",
    "\n",
    "|              |Predicted Class: >50K|Predicted Class: <=50K|\n",
    "|-----------------------------------------------------------------|\n",
    "|Actual Class: >50K  |24             |43              |\n",
    "|Actual Class: <=50K |31             |190             |\n",
    "\n",
    "And the accuracy and error rate are,"
   ]
  },
  {
   "cell_type": "code",
   "execution_count": 24,
   "metadata": {},
   "outputs": [
    {
     "name": "stdout",
     "output_type": "stream",
     "text": [
      "accuracy = 74.31%\n",
      "error rate = 25.69%\n"
     ]
    }
   ],
   "source": [
    "accuracy = (stat['true positive']+stat['true negative']) / sum(stat.values())\n",
    "errorRate = (stat['false positive']+stat['false negative']) / sum(stat.values())\n",
    "\n",
    "print(\"accuracy = \" + str(round(accuracy*100,2)) + \"%\")\n",
    "print(\"error rate = \" + str(round(errorRate*100,2)) + \"%\")"
   ]
  },
  {
   "cell_type": "markdown",
   "metadata": {},
   "source": [
    "The prediction precision, recall, and $F_1$ score can be calculated as following:"
   ]
  },
  {
   "cell_type": "code",
   "execution_count": 25,
   "metadata": {},
   "outputs": [
    {
     "name": "stdout",
     "output_type": "stream",
     "text": [
      "precision = 43.64%\n",
      "recall = 35.82%\n",
      "F1 score = 39.34%\n"
     ]
    }
   ],
   "source": [
    "precision = stat['true positive'] / (stat['true positive']+stat['false positive'])\n",
    "recall = stat['true positive'] / (stat['true positive']+stat['false negative'])\n",
    "f1 = 2 * (precision*recall) / (precision+recall)\n",
    "\n",
    "print(\"precision = \" + str(round(precision*100,2)) + \"%\")\n",
    "print(\"recall = \" + str(round(recall*100,2)) + \"%\")\n",
    "print(\"F1 score = \" + str(round(f1*100,2)) + \"%\")"
   ]
  },
  {
   "cell_type": "markdown",
   "metadata": {},
   "source": [
    "From the above metrics, we can see that the prediction result is not ideal. One possible cause is the positive-class records (annual income > 50K) only take a small portion of both the training set and the test set. More negative data may increase the noise for prediction.\n",
    "\n",
    "## 3. Exceptional Work\n",
    "\n",
    "### Optimal Value K\n",
    "\n",
    "In this section, we study how the prediction results will change with different values for k."
   ]
  },
  {
   "cell_type": "code",
   "execution_count": 26,
   "metadata": {},
   "outputs": [
    {
     "name": "stdout",
     "output_type": "stream",
     "text": [
      "k = 1:\n",
      "{'true negative': 182, 'false negative': 40, 'false positive': 39, 'true positive': 27}\n",
      "k = 2:\n",
      "{'true negative': 182, 'false negative': 40, 'false positive': 39, 'true positive': 27}\n",
      "k = 3:\n",
      "{'false positive': 35, 'true negative': 186, 'false negative': 36, 'true positive': 31}\n",
      "k = 4:\n",
      "{'true negative': 190, 'false negative': 41, 'false positive': 31, 'true positive': 26}\n",
      "k = 5:\n",
      "{'true negative': 190, 'false negative': 43, 'true positive': 24, 'false positive': 31}\n",
      "k = 6:\n",
      "{'true negative': 190, 'false negative': 43, 'true positive': 24, 'false positive': 31}\n",
      "k = 7:\n",
      "{'false positive': 26, 'true negative': 195, 'false negative': 45, 'true positive': 22}\n",
      "k = 8:\n",
      "{'true negative': 195, 'false negative': 44, 'true positive': 23, 'false positive': 26}\n",
      "k = 9:\n",
      "{'true negative': 197, 'false negative': 42, 'true positive': 25, 'false positive': 24}\n",
      "k = 10:\n",
      "{'true negative': 196, 'false negative': 44, 'true positive': 23, 'false positive': 25}\n"
     ]
    }
   ],
   "source": [
    "knnDistDic = knnDists(te, df, 10)\n",
    "for k in range(1, 11):\n",
    "    print(\"k = \" + str(k) + \":\")    \n",
    "    knnClasses = knnClassify(te, df, knnDistDic, 'class',k)\n",
    "    knnOutput = formatOutput(te, knnClasses, 'class')\n",
    "    stat = countStat(knnOutput, ' >50K')\n",
    "    print(stat)"
   ]
  },
  {
   "cell_type": "markdown",
   "metadata": {},
   "source": [
    "The evaluation metrics for different k's are shown in the following table:\n",
    "\n",
    "| | True positive rate | True negative rate | False positive rate | False negative rate | Accuracy | Error rate | Precision | Recall | F1 score |\n",
    "|-----|\n",
    "|k=1| 9.38% | 63.19% | 13.54% | 13.89% | 72.57% | 27.43% | 40.91% | 40.3% | 40.6% |\n",
    "|k=2| 9.38% | 63.19% | 13.54% | 13.89% | 72.57% | 27.43% | 40.91% | 40.3% | 40.6% |\n",
    "|k=3| 10.76% | 64.58% | 12.15% | 12.5% | 75.35% | 24.65% | 46.97% | 46.27% | 46.62% |\n",
    "|k=4| 9.03% | 65.97% | 10.76% | 14.24% | 75.0% | 25.0% | 45.61% | 38.81% | 41.94% |\n",
    "|k=5| 8.33% | 65.97% | 10.76% | 14.93% | 74.31% | 25.69% | 43.64% | 35.82% | 39.34% |\n",
    "|k=6| 8.33% | 65.97% | 10.76% | 14.93% | 74.31% | 25.69% | 43.64% | 35.82% | 39.34% |\n",
    "|k=7| 7.64% | 67.71% | 9.03% | 15.62% | 75.35% | 24.65% | 45.83% | 32.84% | 38.26% | \n",
    "|k=8| 7.99% | 67.71% | 9.03% | 15.28% |75.69% | 24.31% | 46.94% | 34.33% | 39.66% | \n",
    "|k=9| 8.68% | 68.4% | 8.33% | 14.58% | 77.08% | 22.92% |  51.02%  | 37.31% | 43.1% | \n",
    "|k=10|7.99% | 68.06% | 8.68% | 15.28% | 76.04% | 23.96% | 47.92% | 34.33% | 40.0% | \n",
    "\n",
    "From the above table, it is obvious that the choice of k will effect the prediction performance. For k's from 1 to 10, k=3 produces the highest true positive rate and the highest F1 socre 46.62%."
   ]
  },
  {
   "cell_type": "markdown",
   "metadata": {},
   "source": [
    "### Generalize Proximity Function\n",
    "\n",
    "Change the function *dissimilarity* to *Gdis* that can be applied to any data set. The input variables are:\n",
    "* i1: The index for the first comparing subject.\n",
    "* i2: The index for the second comparing subject.\n",
    "* df: The dataframe in which the subjects locate.\n",
    "* exList: Name of the Columns that are exluded when calcualting dissimilarity.\n",
    "* dataSetName: Choose a name for the dataset. (Note that different dataframe should have different name.)"
   ]
  },
  {
   "cell_type": "code",
   "execution_count": 86,
   "metadata": {},
   "outputs": [],
   "source": [
    "r={}\n",
    "def Gdis(i1,i2, df, exList=[],dataSetName):\n",
    "    # Calculate and Store the Range for every columns\n",
    "    if dataSetName not in r:\n",
    "        r[dataSetName]={}\n",
    "        for item in df.columns:\n",
    "            if isinstance(df[item][0],np.int64):\n",
    "                r[dataSetName][item]=df[item].max()-df[item].min()\n",
    "    '''\n",
    "    function for calculating dissimilarity\n",
    "    '''\n",
    "    ob1=df.loc[i1]\n",
    "    ob2=df.loc[i2]\n",
    "    dis=0\n",
    "    sum=0\n",
    "    length=0\n",
    "    for item in df.columns:\n",
    "        if item not in exList:\n",
    "            length+=1\n",
    "            if isinstance(ob1[item],np.number):\n",
    "                dis=(ob1[item]-ob2[item])/r[dataSetName][item]\n",
    "            elif ob1[item]==ob2[item]:\n",
    "                dis=0\n",
    "            else:\n",
    "                dis=1\n",
    "        sum+=dis*dis\n",
    "    dissimilarity=sum/length\n",
    "    return dissimilarity"
   ]
  },
  {
   "cell_type": "markdown",
   "metadata": {},
   "source": [
    "This function works for the original income dataset."
   ]
  },
  {
   "cell_type": "code",
   "execution_count": 87,
   "metadata": {},
   "outputs": [
    {
     "data": {
      "text/plain": [
       "0.0047252527132368187"
      ]
     },
     "execution_count": 87,
     "metadata": {},
     "output_type": "execute_result"
    }
   ],
   "source": [
    "Gdis(0,30,df,['ID','class'],'income')"
   ]
  },
  {
   "cell_type": "markdown",
   "metadata": {},
   "source": [
    "And also for a new dataset with different attributes."
   ]
  },
  {
   "cell_type": "code",
   "execution_count": 107,
   "metadata": {},
   "outputs": [
    {
     "data": {
      "text/html": [
       "<div>\n",
       "<style scoped>\n",
       "    .dataframe tbody tr th:only-of-type {\n",
       "        vertical-align: middle;\n",
       "    }\n",
       "\n",
       "    .dataframe tbody tr th {\n",
       "        vertical-align: top;\n",
       "    }\n",
       "\n",
       "    .dataframe thead th {\n",
       "        text-align: right;\n",
       "    }\n",
       "</style>\n",
       "<table border=\"1\" class=\"dataframe\">\n",
       "  <thead>\n",
       "    <tr style=\"text-align: right;\">\n",
       "      <th></th>\n",
       "      <th>A</th>\n",
       "      <th>B</th>\n",
       "      <th>C</th>\n",
       "      <th>D</th>\n",
       "      <th>E</th>\n",
       "      <th>F</th>\n",
       "      <th>G</th>\n",
       "    </tr>\n",
       "  </thead>\n",
       "  <tbody>\n",
       "    <tr>\n",
       "      <th>0</th>\n",
       "      <td>1.0</td>\n",
       "      <td>2013-01-02</td>\n",
       "      <td>1.0</td>\n",
       "      <td>3</td>\n",
       "      <td>test</td>\n",
       "      <td>foo</td>\n",
       "      <td>1</td>\n",
       "    </tr>\n",
       "    <tr>\n",
       "      <th>1</th>\n",
       "      <td>1.0</td>\n",
       "      <td>2013-01-02</td>\n",
       "      <td>1.0</td>\n",
       "      <td>3</td>\n",
       "      <td>train</td>\n",
       "      <td>foo</td>\n",
       "      <td>2</td>\n",
       "    </tr>\n",
       "    <tr>\n",
       "      <th>2</th>\n",
       "      <td>1.0</td>\n",
       "      <td>2013-01-02</td>\n",
       "      <td>1.0</td>\n",
       "      <td>3</td>\n",
       "      <td>test</td>\n",
       "      <td>foo</td>\n",
       "      <td>3</td>\n",
       "    </tr>\n",
       "    <tr>\n",
       "      <th>3</th>\n",
       "      <td>1.0</td>\n",
       "      <td>2013-01-02</td>\n",
       "      <td>1.0</td>\n",
       "      <td>3</td>\n",
       "      <td>train</td>\n",
       "      <td>foo</td>\n",
       "      <td>4</td>\n",
       "    </tr>\n",
       "  </tbody>\n",
       "</table>\n",
       "</div>"
      ],
      "text/plain": [
       "     A          B    C  D      E    F  G\n",
       "0  1.0 2013-01-02  1.0  3   test  foo  1\n",
       "1  1.0 2013-01-02  1.0  3  train  foo  2\n",
       "2  1.0 2013-01-02  1.0  3   test  foo  3\n",
       "3  1.0 2013-01-02  1.0  3  train  foo  4"
      ]
     },
     "execution_count": 107,
     "metadata": {},
     "output_type": "execute_result"
    }
   ],
   "source": [
    "df2 = pd.DataFrame({ 'A' : 1.,\n",
    "   ....:                      'B' : pd.Timestamp('20130102'),\n",
    "   ....:                      'C' : pd.Series(1,index=list(range(4)),dtype='float32'),\n",
    "   ....:                      'D' : np.array([3] * 4,dtype='int32'),\n",
    "   ....:                      'E' : pd.Categorical([\"test\",\"train\",\"test\",\"train\"]),\n",
    "   ....:                      'F' : 'foo', \n",
    "   ....:                      'G' : [1,2,3,4]})\n",
    "df2"
   ]
  },
  {
   "cell_type": "code",
   "execution_count": 108,
   "metadata": {},
   "outputs": [
    {
     "data": {
      "text/plain": [
       "0.15873015873015875"
      ]
     },
     "execution_count": 108,
     "metadata": {},
     "output_type": "execute_result"
    }
   ],
   "source": [
    "Gdis(0,1,df2,[],'example')"
   ]
  }
 ],
 "metadata": {
  "kernelspec": {
   "display_name": "Python 3",
   "language": "python",
   "name": "python3"
  },
  "language_info": {
   "codemirror_mode": {
    "name": "ipython",
    "version": 3
   },
   "file_extension": ".py",
   "mimetype": "text/x-python",
   "name": "python",
   "nbconvert_exporter": "python",
   "pygments_lexer": "ipython3",
   "version": "3.7.0"
  }
 },
 "nbformat": 4,
 "nbformat_minor": 2
}
