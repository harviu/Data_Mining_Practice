{
 "cells": [
  {
   "cell_type": "markdown",
   "metadata": {},
   "source": [
    "CSE 5243 \n",
    "\n",
    "# Lab1, Exploratory Data Analysis\n",
    "\n",
    "Jan. 28th, 2018"
   ]
  },
  {
   "cell_type": "markdown",
   "metadata": {},
   "source": [
    "## Understand the Data in Context\n",
    "\n",
    "The targe data was collected from the census bureau database to predict whether a person's income is over 50k or not. Each record in the database represents one person in the survey. Data mining tries to find the relations between the data and make the prediction based on those relations. Marital status may also be predicted based on these data. I may calculate a new ordinary variable using the age and the income and find its relation to marital status.  If the model or the algorithm derived from the training data is able to predict the test data (or other samples), we can tell we have mined useful data."
   ]
  },
  {
   "cell_type": "markdown",
   "metadata": {},
   "source": [
    "## Understand the Data"
   ]
  },
  {
   "cell_type": "markdown",
   "metadata": {},
   "source": [
    "\n",
    "### Describe Attributes\n",
    "\n",
    "* Age: Age is a discrete interval attribute, which simply represents the suject's age in years.\n",
    "\n",
    "* Workclass: Workclass is a nominal attribute, which shows the workclass conditon of the subjects.\n",
    "\n",
    "* fnlwgt: fnlwgt means final weight. The weights on the CPS files are controlled to independent estimates of the civilian noninstitutional population of the US. This is a continuous attribute.\n",
    "\n",
    "* education: education is a ordinal attribute representing how much education the subject received.\n",
    "\n",
    "* marital-status: A nominal attribute, quite self-explanatory of showing the subject's marital status.\n",
    "\n",
    "* occupation: A nominal attribute.\n",
    "\n",
    "* relationship: A nominal attribute. This attribute shows the subject's role in the relationship.\n",
    "\n",
    "* sex: A nominal attribute expressed in male and female.\n",
    "\n",
    "* capital-gain: A continuous attribute showing the amount of the capital gain of the subject.\n",
    "\n",
    "* capital-loss: A continuous attribute showing the amount of the capital loss of the subject.\n",
    "\n",
    "* hours-per-week: A continuous ratio attribute, which records how many hours the subject work every week.\n",
    "\n",
    "- native-country: A nominal attribute representing the native country of the subject.\n"
   ]
  },
  {
   "cell_type": "markdown",
   "metadata": {},
   "source": [
    "### Verify Data Quality\n"
   ]
  },
  {
   "cell_type": "code",
   "execution_count": 1,
   "metadata": {
    "scrolled": false
   },
   "outputs": [],
   "source": [
    "import pandas as pd\n",
    "import numpy as np\n",
    "Labels =[\"age\", \"workclass\", \"fnlwgt\", \"education\", \"education-num\", \"marital-status\",\n",
    "               \"occupation\", \"relationship\", \"race\", \"sex\", \"capital-gain\",\n",
    "               \"capital-loss\", \"hours-per-week\", \"native-country\", \"prediction\"]\n",
    "db=pd.read_csv(\"lab1/adult.data\",header=None, names=Labels, sep=',\\s', na_values=[\"?\"],engine='python')\n"
   ]
  },
  {
   "cell_type": "markdown",
   "metadata": {},
   "source": [
    "#### Duplicated Values"
   ]
  },
  {
   "cell_type": "code",
   "execution_count": 2,
   "metadata": {},
   "outputs": [],
   "source": [
    "db[db.duplicated()]\n",
    "db=db.drop_duplicates()"
   ]
  },
  {
   "cell_type": "markdown",
   "metadata": {},
   "source": [
    "As we can see, there are duplicated data. I decided to remove those duplicated values."
   ]
  },
  {
   "cell_type": "markdown",
   "metadata": {},
   "source": [
    "#### Missing Values"
   ]
  },
  {
   "cell_type": "code",
   "execution_count": 3,
   "metadata": {
    "scrolled": false
   },
   "outputs": [],
   "source": [
    "db[db.isna().any(axis=1)]\n",
    "db=db.dropna(how='any')"
   ]
  },
  {
   "cell_type": "markdown",
   "metadata": {},
   "source": [
    "There are 2398 lines with at least 1 missing value. They are removed from the database."
   ]
  },
  {
   "cell_type": "markdown",
   "metadata": {},
   "source": [
    "#### Outlier\n",
    "There is no reason to exclude any outliers."
   ]
  },
  {
   "cell_type": "markdown",
   "metadata": {},
   "source": [
    "### Basic statistics"
   ]
  },
  {
   "cell_type": "code",
   "execution_count": 4,
   "metadata": {},
   "outputs": [
    {
     "data": {
      "text/plain": [
       "0    40\n",
       "dtype: int64"
      ]
     },
     "execution_count": 4,
     "metadata": {},
     "output_type": "execute_result"
    }
   ],
   "source": [
    "db['hours-per-week'].mode()"
   ]
  },
  {
   "cell_type": "code",
   "execution_count": 5,
   "metadata": {},
   "outputs": [
    {
     "data": {
      "text/plain": [
       "40.934702544875414"
      ]
     },
     "execution_count": 5,
     "metadata": {},
     "output_type": "execute_result"
    }
   ],
   "source": [
    "db['hours-per-week'].mean()"
   ]
  },
  {
   "cell_type": "code",
   "execution_count": 6,
   "metadata": {},
   "outputs": [
    {
     "data": {
      "text/plain": [
       "40.0"
      ]
     },
     "execution_count": 6,
     "metadata": {},
     "output_type": "execute_result"
    }
   ],
   "source": [
    "db['hours-per-week'].median()"
   ]
  },
  {
   "cell_type": "code",
   "execution_count": 7,
   "metadata": {},
   "outputs": [
    {
     "data": {
      "text/plain": [
       "99"
      ]
     },
     "execution_count": 7,
     "metadata": {},
     "output_type": "execute_result"
    }
   ],
   "source": [
    "db['hours-per-week'].max()"
   ]
  },
  {
   "cell_type": "code",
   "execution_count": 8,
   "metadata": {},
   "outputs": [
    {
     "data": {
      "text/plain": [
       "1"
      ]
     },
     "execution_count": 8,
     "metadata": {},
     "output_type": "execute_result"
    }
   ],
   "source": [
    "db['hours-per-week'].min()"
   ]
  },
  {
   "cell_type": "code",
   "execution_count": 9,
   "metadata": {},
   "outputs": [
    {
     "data": {
      "text/plain": [
       "11.97875313756356"
      ]
     },
     "execution_count": 9,
     "metadata": {},
     "output_type": "execute_result"
    }
   ],
   "source": [
    "db['hours-per-week'].std()"
   ]
  },
  {
   "cell_type": "code",
   "execution_count": 10,
   "metadata": {},
   "outputs": [
    {
     "data": {
      "text/plain": [
       "40    14239\n",
       "50     2716\n",
       "45     1752\n",
       "60     1405\n",
       "35     1183\n",
       "20     1054\n",
       "30      988\n",
       "55      671\n",
       "25      574\n",
       "48      493\n",
       "38      456\n",
       "15      346\n",
       "70      276\n",
       "65      241\n",
       "32      238\n",
       "10      219\n",
       "24      217\n",
       "42      213\n",
       "44      209\n",
       "36      202\n",
       "16      180\n",
       "43      146\n",
       "37      145\n",
       "12      137\n",
       "52      135\n",
       "80      120\n",
       "8       102\n",
       "56       90\n",
       "46       80\n",
       "99       78\n",
       "      ...  \n",
       "64       14\n",
       "51       13\n",
       "85       13\n",
       "68       12\n",
       "98       11\n",
       "63        9\n",
       "11        9\n",
       "78        8\n",
       "1         7\n",
       "77        6\n",
       "31        5\n",
       "96        5\n",
       "29        5\n",
       "59        4\n",
       "67        4\n",
       "91        3\n",
       "76        3\n",
       "81        3\n",
       "73        2\n",
       "89        2\n",
       "95        2\n",
       "97        2\n",
       "88        2\n",
       "86        2\n",
       "61        2\n",
       "94        1\n",
       "87        1\n",
       "74        1\n",
       "82        1\n",
       "92        1\n",
       "Name: hours-per-week, Length: 94, dtype: int64"
      ]
     },
     "execution_count": 10,
     "metadata": {},
     "output_type": "execute_result"
    }
   ],
   "source": [
    "db['hours-per-week'].value_counts()"
   ]
  },
  {
   "cell_type": "markdown",
   "metadata": {},
   "source": [
    "According to the basic statistics of the attribute \"hours per week\", we can see the mode and the mediem are both 40 = 5 * 8 which is the enforced by the law. The value counts shows that nearly half of the sujects work 8 hours every day. The maxium and the minium value is 99 and 1. Maybe this is the upper and lower bound that the subject can choose from. It is interesting that 78 subjects choose \"99\", which means they work for more than 14 hours every day even if they work 7 days a week.(Note that this maybe the largest number the subject may choose.) However, it is possible that some subjects choose the answer mind-absently or choose 99 to show they work a lot without calculating the accurate number."
   ]
  },
  {
   "cell_type": "markdown",
   "metadata": {},
   "source": [
    "### Visualization between Numeric"
   ]
  },
  {
   "cell_type": "code",
   "execution_count": 11,
   "metadata": {},
   "outputs": [
    {
     "data": {
      "text/plain": [
       "<matplotlib.axes._subplots.AxesSubplot at 0x7f9536cc02b0>"
      ]
     },
     "execution_count": 11,
     "metadata": {},
     "output_type": "execute_result"
    }
   ],
   "source": [
    "db['hours-per-week'].plot(kind=\"box\")"
   ]
  },
  {
   "cell_type": "markdown",
   "metadata": {},
   "source": [
    "Among the hours-work per week, the frequency is centrulized to 40 = 5 * 8 hours."
   ]
  },
  {
   "cell_type": "code",
   "execution_count": 12,
   "metadata": {},
   "outputs": [
    {
     "data": {
      "text/plain": [
       "<matplotlib.axes._subplots.AxesSubplot at 0x7f9536bfdef0>"
      ]
     },
     "execution_count": 12,
     "metadata": {},
     "output_type": "execute_result"
    },
    {
     "data": {
      "image/png": "[encoded data removed]",
      "text/plain": [
       "<matplotlib.figure.Figure at 0x7f956763d358>"
      ]
     },
     "metadata": {},
     "output_type": "display_data"
    }
   ],
   "source": [
    "db['age'].plot(kind='hist')"
   ]
  },
  {
   "cell_type": "markdown",
   "metadata": {},
   "source": [
    "The subject is choosen mostly from 20 to 50, however there are some people over 80-year-old are still working."
   ]
  },
  {
   "cell_type": "code",
   "execution_count": 13,
   "metadata": {
    "scrolled": true
   },
   "outputs": [
    {
     "data": {
      "text/plain": [
       "<matplotlib.axes._subplots.AxesSubplot at 0x7f9536b57d30>"
      ]
     },
     "execution_count": 13,
     "metadata": {},
     "output_type": "execute_result"
    },
    {
     "data": {
      "image/png": "[encoded data removed]",
      "text/plain": [
       "<matplotlib.figure.Figure at 0x7f9536b75d30>"
      ]
     },
     "metadata": {},
     "output_type": "display_data"
    }
   ],
   "source": [
    "db['education'].value_counts().plot(kind='pie')"
   ]
  },
  {
   "cell_type": "markdown",
   "metadata": {},
   "source": [
    "The portion of people not finishing there collage degree is much lager than my expection."
   ]
  },
  {
   "cell_type": "code",
   "execution_count": 14,
   "metadata": {},
   "outputs": [
    {
     "data": {
      "text/plain": [
       "<matplotlib.axes._subplots.AxesSubplot at 0x7f952dfb6e48>"
      ]
     },
     "execution_count": 14,
     "metadata": {},
     "output_type": "execute_result"
    },
    {
     "data": {
      "image/png": "[encoded data removed]",
      "text/plain": [
       "<matplotlib.figure.Figure at 0x7f9536b35278>"
      ]
     },
     "metadata": {},
     "output_type": "display_data"
    }
   ],
   "source": [
    "db['marital-status'].value_counts().plot(kind='pie')"
   ]
  },
  {
   "cell_type": "markdown",
   "metadata": {},
   "source": [
    "More than half of the working people are actually single.(This is reasonable considering the youngest survey subjects are 20ish.)"
   ]
  },
  {
   "cell_type": "code",
   "execution_count": 15,
   "metadata": {},
   "outputs": [
    {
     "data": {
      "text/plain": [
       "<matplotlib.axes._subplots.AxesSubplot at 0x7f952df112e8>"
      ]
     },
     "execution_count": 15,
     "metadata": {},
     "output_type": "execute_result"
    },
    {
     "data": {
      "image/png": "[encoded data removed]",
      "text/plain": [
       "<matplotlib.figure.Figure at 0x7f952df45a90>"
      ]
     },
     "metadata": {},
     "output_type": "display_data"
    }
   ],
   "source": [
    "db['capital-gain'].plot(kind=\"hist\")"
   ]
  },
  {
   "cell_type": "markdown",
   "metadata": {},
   "source": [
    "There are a few people gain around 100k through invesment."
   ]
  },
  {
   "cell_type": "markdown",
   "metadata": {},
   "source": [
    "### Relationships"
   ]
  },
  {
   "cell_type": "code",
   "execution_count": 16,
   "metadata": {},
   "outputs": [
    {
     "data": {
      "text/html": [
       "<div>\n",
       "<style scoped>\n",
       "    .dataframe tbody tr th:only-of-type {\n",
       "        vertical-align: middle;\n",
       "    }\n",
       "\n",
       "    .dataframe tbody tr th {\n",
       "        vertical-align: top;\n",
       "    }\n",
       "\n",
       "    .dataframe thead th {\n",
       "        text-align: right;\n",
       "    }\n",
       "</style>\n",
       "<table border=\"1\" class=\"dataframe\">\n",
       "  <thead>\n",
       "    <tr style=\"text-align: right;\">\n",
       "      <th></th>\n",
       "      <th>age</th>\n",
       "      <th>fnlwgt</th>\n",
       "      <th>education-num</th>\n",
       "      <th>capital-gain</th>\n",
       "      <th>capital-loss</th>\n",
       "      <th>hours-per-week</th>\n",
       "    </tr>\n",
       "  </thead>\n",
       "  <tbody>\n",
       "    <tr>\n",
       "      <th>age</th>\n",
       "      <td>1.000000</td>\n",
       "      <td>-0.076279</td>\n",
       "      <td>0.043203</td>\n",
       "      <td>0.080162</td>\n",
       "      <td>0.060141</td>\n",
       "      <td>0.101348</td>\n",
       "    </tr>\n",
       "    <tr>\n",
       "      <th>fnlwgt</th>\n",
       "      <td>-0.076279</td>\n",
       "      <td>1.000000</td>\n",
       "      <td>-0.045199</td>\n",
       "      <td>0.000420</td>\n",
       "      <td>-0.009755</td>\n",
       "      <td>-0.023033</td>\n",
       "    </tr>\n",
       "    <tr>\n",
       "      <th>education-num</th>\n",
       "      <td>0.043203</td>\n",
       "      <td>-0.045199</td>\n",
       "      <td>1.000000</td>\n",
       "      <td>0.124455</td>\n",
       "      <td>0.079613</td>\n",
       "      <td>0.152842</td>\n",
       "    </tr>\n",
       "    <tr>\n",
       "      <th>capital-gain</th>\n",
       "      <td>0.080162</td>\n",
       "      <td>0.000420</td>\n",
       "      <td>0.124455</td>\n",
       "      <td>1.000000</td>\n",
       "      <td>-0.032255</td>\n",
       "      <td>0.080429</td>\n",
       "    </tr>\n",
       "    <tr>\n",
       "      <th>capital-loss</th>\n",
       "      <td>0.060141</td>\n",
       "      <td>-0.009755</td>\n",
       "      <td>0.079613</td>\n",
       "      <td>-0.032255</td>\n",
       "      <td>1.000000</td>\n",
       "      <td>0.052380</td>\n",
       "    </tr>\n",
       "    <tr>\n",
       "      <th>hours-per-week</th>\n",
       "      <td>0.101348</td>\n",
       "      <td>-0.023033</td>\n",
       "      <td>0.152842</td>\n",
       "      <td>0.080429</td>\n",
       "      <td>0.052380</td>\n",
       "      <td>1.000000</td>\n",
       "    </tr>\n",
       "  </tbody>\n",
       "</table>\n",
       "</div>"
      ],
      "text/plain": [
       "                     age    fnlwgt  education-num  capital-gain  capital-loss  \\\n",
       "age             1.000000 -0.076279       0.043203      0.080162      0.060141   \n",
       "fnlwgt         -0.076279  1.000000      -0.045199      0.000420     -0.009755   \n",
       "education-num   0.043203 -0.045199       1.000000      0.124455      0.079613   \n",
       "capital-gain    0.080162  0.000420       0.124455      1.000000     -0.032255   \n",
       "capital-loss    0.060141 -0.009755       0.079613     -0.032255      1.000000   \n",
       "hours-per-week  0.101348 -0.023033       0.152842      0.080429      0.052380   \n",
       "\n",
       "                hours-per-week  \n",
       "age                   0.101348  \n",
       "fnlwgt               -0.023033  \n",
       "education-num         0.152842  \n",
       "capital-gain          0.080429  \n",
       "capital-loss          0.052380  \n",
       "hours-per-week        1.000000  "
      ]
     },
     "execution_count": 16,
     "metadata": {},
     "output_type": "execute_result"
    }
   ],
   "source": [
    "db.corr()"
   ]
  },
  {
   "cell_type": "markdown",
   "metadata": {},
   "source": [
    "The only 3 correlations over 0.1 is between age & hours-per-week, education-num & hours-per-week and education-num & capital-gain. These three correlations are all positive and weak."
   ]
  },
  {
   "cell_type": "code",
   "execution_count": 17,
   "metadata": {},
   "outputs": [
    {
     "data": {
      "text/plain": [
       "<matplotlib.axes._subplots.AxesSubplot at 0x7f952df28c50>"
      ]
     },
     "execution_count": 17,
     "metadata": {},
     "output_type": "execute_result"
    },
    {
     "data": {
      "image/png": "[encoded data removed]",
      "text/plain": [
       "<matplotlib.figure.Figure at 0x7f952df38550>"
      ]
     },
     "metadata": {},
     "output_type": "display_data"
    }
   ],
   "source": [
    "db.plot.scatter('age','hours-per-week')"
   ]
  },
  {
   "cell_type": "code",
   "execution_count": 18,
   "metadata": {},
   "outputs": [
    {
     "data": {
      "text/plain": [
       "<matplotlib.axes._subplots.AxesSubplot at 0x7f952dea92b0>"
      ]
     },
     "execution_count": 18,
     "metadata": {},
     "output_type": "execute_result"
    },
    {
     "data": {
      "image/png": "[encoded data removed]",
      "text/plain": [
       "<matplotlib.figure.Figure at 0x7f952de58a58>"
      ]
     },
     "metadata": {},
     "output_type": "display_data"
    }
   ],
   "source": [
    "db.plot.scatter('education-num','hours-per-week')"
   ]
  },
  {
   "cell_type": "code",
   "execution_count": 19,
   "metadata": {},
   "outputs": [
    {
     "data": {
      "text/plain": [
       "<matplotlib.axes._subplots.AxesSubplot at 0x7f952de2bef0>"
      ]
     },
     "execution_count": 19,
     "metadata": {},
     "output_type": "execute_result"
    },
    {
     "data": {
      "image/png": "[encoded data removed]",
      "text/plain": [
       "<matplotlib.figure.Figure at 0x7f952de1e5c0>"
      ]
     },
     "metadata": {},
     "output_type": "display_data"
    }
   ],
   "source": [
    "db.plot.scatter('education-num','capital-gain')"
   ]
  },
  {
   "cell_type": "markdown",
   "metadata": {},
   "source": [
    "No significant relationship can be observed in plot 1 and 2. However in plot 3 we can see that between education number 2 and 9, the captical gain is increasing with the education number, which means people with higher education (up to 9 years) will earn more money in the investment."
   ]
  },
  {
   "cell_type": "markdown",
   "metadata": {},
   "source": [
    "### Relationship by Class"
   ]
  },
  {
   "cell_type": "code",
   "execution_count": 20,
   "metadata": {
    "scrolled": false
   },
   "outputs": [
    {
     "data": {
      "text/plain": [
       "<matplotlib.axes._subplots.AxesSubplot at 0x7f952de004e0>"
      ]
     },
     "execution_count": 20,
     "metadata": {},
     "output_type": "execute_result"
    },
    {
     "data": {
      "image/png": "[encoded data removed]",
      "text/plain": [
       "<matplotlib.figure.Figure at 0x7f952dde9208>"
      ]
     },
     "metadata": {},
     "output_type": "display_data"
    }
   ],
   "source": [
    "db.groupby('workclass').mean()['hours-per-week'].plot(kind='bar')"
   ]
  },
  {
   "cell_type": "markdown",
   "metadata": {},
   "source": [
    "People in goverments or privately work strictly 40 hours a week. However, people who is self-employed or works with-out pay are have more freedom about working hours."
   ]
  },
  {
   "cell_type": "markdown",
   "metadata": {},
   "source": [
    "### Add Attributes"
   ]
  },
  {
   "cell_type": "code",
   "execution_count": 21,
   "metadata": {},
   "outputs": [],
   "source": [
    "def conv(age):\n",
    "    if age<=25 :\n",
    "        return '<=25'\n",
    "    if age<=35 :\n",
    "        return '<=35'\n",
    "    if age<=45 :\n",
    "        return '<=45'\n",
    "    if age<=55 :\n",
    "        return '<=55'\n",
    "    elif age>55:\n",
    "        return '>55'\n",
    "    \n",
    "db['age_range']=db['age'].apply(conv)"
   ]
  },
  {
   "cell_type": "code",
   "execution_count": 22,
   "metadata": {},
   "outputs": [
    {
     "data": {
      "text/plain": [
       "0        <=45\n",
       "1        <=55\n",
       "2        <=45\n",
       "3        <=55\n",
       "4        <=35\n",
       "5        <=45\n",
       "6        <=55\n",
       "7        <=55\n",
       "8        <=35\n",
       "9        <=45\n",
       "10       <=45\n",
       "11       <=35\n",
       "12       <=25\n",
       "13       <=35\n",
       "15       <=35\n",
       "16       <=25\n",
       "17       <=35\n",
       "18       <=45\n",
       "19       <=45\n",
       "20       <=45\n",
       "21       <=55\n",
       "22       <=35\n",
       "23       <=45\n",
       "24        >55\n",
       "25        >55\n",
       "26       <=25\n",
       "28       <=45\n",
       "29       <=55\n",
       "30       <=25\n",
       "31       <=25\n",
       "         ... \n",
       "32526    <=35\n",
       "32527    <=25\n",
       "32528    <=35\n",
       "32529    <=35\n",
       "32532    <=35\n",
       "32533    <=55\n",
       "32534    <=45\n",
       "32535    <=25\n",
       "32536    <=35\n",
       "32537    <=35\n",
       "32538    <=45\n",
       "32540    <=45\n",
       "32543    <=45\n",
       "32544    <=35\n",
       "32545    <=45\n",
       "32546    <=45\n",
       "32547    <=45\n",
       "32548     >55\n",
       "32549    <=45\n",
       "32550    <=45\n",
       "32551    <=35\n",
       "32552    <=45\n",
       "32553    <=35\n",
       "32554    <=55\n",
       "32555    <=25\n",
       "32556    <=35\n",
       "32557    <=45\n",
       "32558     >55\n",
       "32559    <=25\n",
       "32560    <=55\n",
       "Name: age_range, Length: 30139, dtype: object"
      ]
     },
     "execution_count": 22,
     "metadata": {},
     "output_type": "execute_result"
    }
   ],
   "source": [
    "db['age_range']"
   ]
  },
  {
   "cell_type": "markdown",
   "metadata": {},
   "source": [
    "Attribute age can be changed into a class attribute, so that some analyze can be done within the certain age range."
   ]
  },
  {
   "cell_type": "markdown",
   "metadata": {},
   "source": [
    "## Exceptional Work"
   ]
  },
  {
   "cell_type": "code",
   "execution_count": 23,
   "metadata": {},
   "outputs": [
    {
     "data": {
      "text/plain": [
       "<matplotlib.axes._subplots.AxesSubplot at 0x7f952dd271d0>"
      ]
     },
     "execution_count": 23,
     "metadata": {},
     "output_type": "execute_result"
    },
    {
     "data": {
      "image/png": "[encoded data removed]",
      "text/plain": [
       "<matplotlib.figure.Figure at 0x7f952dd604e0>"
      ]
     },
     "metadata": {},
     "output_type": "display_data"
    }
   ],
   "source": [
    "db['fnlwgt'].plot(kind='hist')"
   ]
  },
  {
   "cell_type": "code",
   "execution_count": 24,
   "metadata": {},
   "outputs": [
    {
     "data": {
      "text/html": [
       "<div>\n",
       "<style scoped>\n",
       "    .dataframe tbody tr th:only-of-type {\n",
       "        vertical-align: middle;\n",
       "    }\n",
       "\n",
       "    .dataframe tbody tr th {\n",
       "        vertical-align: top;\n",
       "    }\n",
       "\n",
       "    .dataframe thead th {\n",
       "        text-align: right;\n",
       "    }\n",
       "</style>\n",
       "<table border=\"1\" class=\"dataframe\">\n",
       "  <thead>\n",
       "    <tr style=\"text-align: right;\">\n",
       "      <th></th>\n",
       "      <th>age</th>\n",
       "      <th>education-num</th>\n",
       "      <th>capital-gain</th>\n",
       "      <th>capital-loss</th>\n",
       "      <th>hours-per-week</th>\n",
       "    </tr>\n",
       "  </thead>\n",
       "  <tbody>\n",
       "    <tr>\n",
       "      <th>age</th>\n",
       "      <td>1.000000</td>\n",
       "      <td>0.676279</td>\n",
       "      <td>0.174163</td>\n",
       "      <td>0.364626</td>\n",
       "      <td>0.432238</td>\n",
       "    </tr>\n",
       "    <tr>\n",
       "      <th>education-num</th>\n",
       "      <td>0.676279</td>\n",
       "      <td>1.000000</td>\n",
       "      <td>0.169688</td>\n",
       "      <td>0.588376</td>\n",
       "      <td>0.490416</td>\n",
       "    </tr>\n",
       "    <tr>\n",
       "      <th>capital-gain</th>\n",
       "      <td>0.174163</td>\n",
       "      <td>0.169688</td>\n",
       "      <td>1.000000</td>\n",
       "      <td>0.272978</td>\n",
       "      <td>-0.011535</td>\n",
       "    </tr>\n",
       "    <tr>\n",
       "      <th>capital-loss</th>\n",
       "      <td>0.364626</td>\n",
       "      <td>0.588376</td>\n",
       "      <td>0.272978</td>\n",
       "      <td>1.000000</td>\n",
       "      <td>0.270576</td>\n",
       "    </tr>\n",
       "    <tr>\n",
       "      <th>hours-per-week</th>\n",
       "      <td>0.432238</td>\n",
       "      <td>0.490416</td>\n",
       "      <td>-0.011535</td>\n",
       "      <td>0.270576</td>\n",
       "      <td>1.000000</td>\n",
       "    </tr>\n",
       "  </tbody>\n",
       "</table>\n",
       "</div>"
      ],
      "text/plain": [
       "                     age  education-num  capital-gain  capital-loss  \\\n",
       "age             1.000000       0.676279      0.174163      0.364626   \n",
       "education-num   0.676279       1.000000      0.169688      0.588376   \n",
       "capital-gain    0.174163       0.169688      1.000000      0.272978   \n",
       "capital-loss    0.364626       0.588376      0.272978      1.000000   \n",
       "hours-per-week  0.432238       0.490416     -0.011535      0.270576   \n",
       "\n",
       "                hours-per-week  \n",
       "age                   0.432238  \n",
       "education-num         0.490416  \n",
       "capital-gain         -0.011535  \n",
       "capital-loss          0.270576  \n",
       "hours-per-week        1.000000  "
      ]
     },
     "execution_count": 24,
     "metadata": {},
     "output_type": "execute_result"
    }
   ],
   "source": [
    "def fnl(wgt):\n",
    "    if wgt<313769:\n",
    "        return int((wgt-13769)/10000)\n",
    "    elif wgt<613769:\n",
    "        return int((wgt-313769)/75000+30)\n",
    "    else:\n",
    "        return 34\n",
    "db['fnl']=db['fnlwgt'].apply(fnl)\n",
    "db2=db.groupby('fnl').mean()\n",
    "del db2['fnlwgt']\n",
    "db2.corr()"
   ]
  },
  {
   "cell_type": "code",
   "execution_count": 25,
   "metadata": {
    "scrolled": false
   },
   "outputs": [
    {
     "data": {
      "text/plain": [
       "<matplotlib.axes._subplots.AxesSubplot at 0x7f952dd500f0>"
      ]
     },
     "execution_count": 25,
     "metadata": {},
     "output_type": "execute_result"
    },
    {
     "data": {
      "image/png": "[encoded data removed]",
      "text/plain": [
       "<matplotlib.figure.Figure at 0x7f952dd1e0f0>"
      ]
     },
     "metadata": {},
     "output_type": "display_data"
    }
   ],
   "source": [
    "db2.plot.scatter('age','education-num')"
   ]
  },
  {
   "cell_type": "markdown",
   "metadata": {},
   "source": [
    "Consider the attribute fnlwgt, it is found that fnlwgt is not evenly distributed. So in order to group the data set according to \"fnlwgt\", the fnl function is used to convert the fnlwgt into fnl, which are intergers with approximately the same amount of subjects sharing the same number. And then group the dataset by \"fnl\". Because the fnlwgt represents the demographic characteristics of the subjects, people in the same group are similar in the demographic characteristics. The mean values of the non-class attributes are calcuated and form a new data frame \"db2\". In the correlation matrix of the \"db2\", we can find some string correlations.\n",
    "\n",
    "Viewing the scatter plot, the age is positively correlated to the education-num. This means that amoung all demographic groups, the group with a lower average working age tends to have a lower years of education. Apparently, there are some demographic factor that is correlated to both of these two variables.  "
   ]
  }
 ],
 "metadata": {
  "kernelspec": {
   "display_name": "Python 3",
   "language": "python",
   "name": "python3"
  },
  "language_info": {
   "codemirror_mode": {
    "name": "ipython",
    "version": 3
   },
   "file_extension": ".py",
   "mimetype": "text/x-python",
   "name": "python",
   "nbconvert_exporter": "python",
   "pygments_lexer": "ipython3",
   "version": "3.7.0"
  }
 },
 "nbformat": 4,
 "nbformat_minor": 2
}
