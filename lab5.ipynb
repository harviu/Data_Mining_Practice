{
 "cells": [
  {
   "cell_type": "markdown",
   "metadata": {},
   "source": [
    "CSE 5243 - April 17th, 2018\n",
    "\n",
    "# Lab 5 Classification\n",
    "\n"
   ]
  },
  {
   "cell_type": "markdown",
   "metadata": {},
   "source": [
    "## 1. K-means from Scratch"
   ]
  },
  {
   "cell_type": "code",
   "execution_count": 206,
   "metadata": {},
   "outputs": [],
   "source": [
    "import pandas as pd\n",
    "import numpy as np\n",
    "from random import random\n",
    "df=pd.read_csv(\"TwoDimHard.csv\", sep=',',engine='python')\n",
    "\n",
    "tCluster = df['cluster']\n",
    "data = df.drop('cluster',1)"
   ]
  },
  {
   "cell_type": "markdown",
   "metadata": {},
   "source": [
    "### Description of kMeanCluster function\n",
    "\n",
    "This function use Euclidean distance to calculate the distance between every object and the centroid point. In every iteration the objects are assigned to the cluster whose centroid is closest to the object. After the assignment, the controid is updated according to the current clusters. The algorithm ends when the cluster change in the iteration is 0."
   ]
  },
  {
   "cell_type": "code",
   "execution_count": 88,
   "metadata": {},
   "outputs": [],
   "source": [
    "def eucDis(ob1,ob2):\n",
    "    delX1 = ob1['X.1']-ob2['X.1']\n",
    "    delX2 = ob1['X.2']-ob2['X.2']\n",
    "    return np.sqrt(np.power(delX1,2)+np.power(delX2,2))"
   ]
  },
  {
   "cell_type": "code",
   "execution_count": 120,
   "metadata": {},
   "outputs": [],
   "source": [
    "def kMeanCluster(data,k):\n",
    "    # generate initial random centroids\n",
    "    clusters = np.zeros(data.shape[0])\n",
    "    centroid = []\n",
    "    for i in range(k):\n",
    "        centroid.append({'X.1':0,'X.2':0})\n",
    "        centroid[i]['X.1']=random()*(data['X.1'].max()-data['X.1'].min())+data['X.1'].min()\n",
    "        centroid[i]['X.2']=random()*(data['X.2'].max()-data['X.2'].min())+data['X.2'].min()\n",
    "    #Calculate all distances\n",
    "    while True:\n",
    "        changeCount = 0\n",
    "        for i,obj in data.iterrows():\n",
    "            minDis = 2147483647\n",
    "            curClu = -1\n",
    "            for j in range(k):\n",
    "                curDis = eucDis(centroid[j],obj)\n",
    "                if curDis<minDis:\n",
    "                    minDis =curDis\n",
    "                    curClu = j\n",
    "            if curClu != clusters[i]:\n",
    "                changeCount +=1\n",
    "                clusters[i]=curClu\n",
    "        #Update Centroid\n",
    "        cluCount=np.zeros(k)\n",
    "        cluSum=np.zeros([k,2])\n",
    "        for i in range(data.shape[0]):\n",
    "            clu = int(clusters[i]);\n",
    "            cluCount[clu]+=1\n",
    "            cluSum[clu][0]+=data.loc[i]['X.1']\n",
    "            cluSum[clu][1]+=data.loc[i]['X.2']\n",
    "        for i in range(k):\n",
    "            centroid[i]['X.1']=cluSum[i][0]/cluCount[i]\n",
    "            centroid[i]['X.2']=cluSum[i][1]/cluCount[i]\n",
    "        if changeCount==0:\n",
    "            break\n",
    "    return clusters"
   ]
  },
  {
   "cell_type": "markdown",
   "metadata": {},
   "source": [
    "### Calculate SSE and SSB for True Clusters\n",
    "The SSE for cluster 1,2,3,4 are 0.31284772, 0.90, 0.43 and 1.91. The total SSE is 5.56. The Total SSB is 95.40"
   ]
  },
  {
   "cell_type": "code",
   "execution_count": 224,
   "metadata": {},
   "outputs": [],
   "source": [
    "def calSS(df,n):\n",
    "    clu = []\n",
    "    for i in range(n):\n",
    "        clu.append([])\n",
    "    SSE = np.zeros(n)\n",
    "    SSB = 0\n",
    "    centroid={'X.1': np.average(df['X.1']),'X.2': np.average(df['X.2'])}\n",
    "    for i,obj in df.iterrows():\n",
    "        cluI = int(obj['cluster'])-1\n",
    "        clu[cluI].append(obj[1:3])\n",
    "    index =0\n",
    "    for i in clu:\n",
    "        sum1 =0;\n",
    "        sum2 =0;\n",
    "        for j in i:\n",
    "            sum1 += j['X.1']\n",
    "            sum2 += j['X.2']\n",
    "        ctrd ={'X.1': sum1/len(i),'X.2': sum2/len(i)}\n",
    "        SSB +=len(i)*eucDis(ctrd,centroid)\n",
    "        for j in i:\n",
    "            SSE[index]+=np.power(eucDis(ctrd,j),2)\n",
    "        index+=1\n",
    "    return SSE,SSB"
   ]
  },
  {
   "cell_type": "code",
   "execution_count": 214,
   "metadata": {},
   "outputs": [
    {
     "name": "stdout",
     "output_type": "stream",
     "text": [
      "5.5562155181714\n",
      "[0.31284772 0.90253362 2.43011872 1.91071547]\n",
      "95.40083880633037\n"
     ]
    }
   ],
   "source": [
    "SSE,SSB = calSS(df,4)\n",
    "SSETotal = sum(SSE)\n",
    "print(SSETotal)\n",
    "print(SSE)\n",
    "print(SSB)"
   ]
  },
  {
   "cell_type": "code",
   "execution_count": 204,
   "metadata": {},
   "outputs": [
    {
     "data": {
      "image/png": "[encoded data removed]",
      "text/plain": [
       "<matplotlib.figure.Figure at 0x7f820d8b4278>"
      ]
     },
     "metadata": {},
     "output_type": "display_data"
    }
   ],
   "source": [
    "import matplotlib.pyplot as plt\n",
    "def drawScatter(df):\n",
    "    groups = df.groupby('cluster')\n",
    "\n",
    "    fig, ax = plt.subplots()\n",
    "    ax.margins(0.05) # adds 5% padding to the autoscaling\n",
    "\n",
    "    for name, group in groups:\n",
    "        ax.plot(group['X.1'], group['X.2'], marker='o', linestyle='', ms=5, label=name)\n",
    "    ax.legend()\n",
    "\n",
    "    plt.show()\n",
    "drawScatter(df)"
   ]
  },
  {
   "cell_type": "markdown",
   "metadata": {},
   "source": [
    "## K-means on TwoDimHard dataset with k=4\n"
   ]
  },
  {
   "cell_type": "code",
   "execution_count": 245,
   "metadata": {},
   "outputs": [],
   "source": [
    "clusters = kMeanCluster(df,4)\n",
    "output = pd.DataFrame(clusters)\n",
    "output.to_csv(\"k4.csv\",sep =',',header=['cluster'])\n",
    "k4df = df.copy()\n",
    "k4df['cluster']=clusters\n",
    "SSE4,SSB4 = calSS(k4df,4)\n",
    "SSE4Total = sum(SSE4)"
   ]
  },
  {
   "cell_type": "markdown",
   "metadata": {},
   "source": [
    "The SSE and SSB for 4 clusters are as following:"
   ]
  },
  {
   "cell_type": "code",
   "execution_count": 246,
   "metadata": {},
   "outputs": [
    {
     "name": "stdout",
     "output_type": "stream",
     "text": [
      "4.892102869557148\n",
      "[0.50048058 1.07648509 1.84460301 1.47053419]\n",
      "96.33677728561318\n"
     ]
    }
   ],
   "source": [
    "print(SSE4Total)\n",
    "print(SSE4)\n",
    "print(SSB4)"
   ]
  },
  {
   "cell_type": "code",
   "execution_count": 205,
   "metadata": {},
   "outputs": [
    {
     "data": {
      "image/png": "[encoded data removed]",
      "text/plain": [
       "<matplotlib.figure.Figure at 0x7f820daf9f60>"
      ]
     },
     "metadata": {},
     "output_type": "display_data"
    }
   ],
   "source": [
    "drawScatter(k4df)"
   ]
  },
  {
   "cell_type": "code",
   "execution_count": 207,
   "metadata": {},
   "outputs": [
    {
     "data": {
      "text/html": [
       "<div>\n",
       "<style scoped>\n",
       "    .dataframe tbody tr th:only-of-type {\n",
       "        vertical-align: middle;\n",
       "    }\n",
       "\n",
       "    .dataframe tbody tr th {\n",
       "        vertical-align: top;\n",
       "    }\n",
       "\n",
       "    .dataframe thead th {\n",
       "        text-align: right;\n",
       "    }\n",
       "</style>\n",
       "<table border=\"1\" class=\"dataframe\">\n",
       "  <thead>\n",
       "    <tr style=\"text-align: right;\">\n",
       "      <th>col_0</th>\n",
       "      <th>0.0</th>\n",
       "      <th>1.0</th>\n",
       "      <th>2.0</th>\n",
       "      <th>3.0</th>\n",
       "    </tr>\n",
       "    <tr>\n",
       "      <th>cluster</th>\n",
       "      <th></th>\n",
       "      <th></th>\n",
       "      <th></th>\n",
       "      <th></th>\n",
       "    </tr>\n",
       "  </thead>\n",
       "  <tbody>\n",
       "    <tr>\n",
       "      <th>1</th>\n",
       "      <td>0</td>\n",
       "      <td>0</td>\n",
       "      <td>0</td>\n",
       "      <td>89</td>\n",
       "    </tr>\n",
       "    <tr>\n",
       "      <th>2</th>\n",
       "      <td>98</td>\n",
       "      <td>0</td>\n",
       "      <td>0</td>\n",
       "      <td>2</td>\n",
       "    </tr>\n",
       "    <tr>\n",
       "      <th>3</th>\n",
       "      <td>2</td>\n",
       "      <td>88</td>\n",
       "      <td>3</td>\n",
       "      <td>4</td>\n",
       "    </tr>\n",
       "    <tr>\n",
       "      <th>4</th>\n",
       "      <td>8</td>\n",
       "      <td>2</td>\n",
       "      <td>104</td>\n",
       "      <td>0</td>\n",
       "    </tr>\n",
       "  </tbody>\n",
       "</table>\n",
       "</div>"
      ],
      "text/plain": [
       "col_0    0.0  1.0  2.0  3.0\n",
       "cluster                    \n",
       "1          0    0    0   89\n",
       "2         98    0    0    2\n",
       "3          2   88    3    4\n",
       "4          8    2  104    0"
      ]
     },
     "execution_count": 207,
     "metadata": {},
     "output_type": "execute_result"
    }
   ],
   "source": [
    "pd.crosstab(tCluster,clusters)"
   ]
  },
  {
   "cell_type": "markdown",
   "metadata": {},
   "source": [
    "## K-means on TwoDimHard dataset with k=3"
   ]
  },
  {
   "cell_type": "code",
   "execution_count": 247,
   "metadata": {},
   "outputs": [
    {
     "name": "stdout",
     "output_type": "stream",
     "text": [
      "8.564674842697507\n",
      "[2.03947997 4.56579404 1.95940084]\n",
      "90.63695333263351\n"
     ]
    }
   ],
   "source": [
    "clusters = kMeanCluster(df,3)\n",
    "k3df = df.copy()\n",
    "k3df['cluster']=clusters\n",
    "SSE3,SSB3 = calSS(k3df,3)\n",
    "SSE3Total = sum(SSE3)\n",
    "print(SSE3Total)\n",
    "print(SSE3)\n",
    "print(SSB3)"
   ]
  },
  {
   "cell_type": "code",
   "execution_count": 226,
   "metadata": {},
   "outputs": [
    {
     "data": {
      "image/png": "[encoded data removed]",
      "text/plain": [
       "<matplotlib.figure.Figure at 0x7f820d82dcf8>"
      ]
     },
     "metadata": {},
     "output_type": "display_data"
    }
   ],
   "source": [
    "drawScatter(k3df)"
   ]
  },
  {
   "cell_type": "code",
   "execution_count": 227,
   "metadata": {},
   "outputs": [
    {
     "data": {
      "text/html": [
       "<div>\n",
       "<style scoped>\n",
       "    .dataframe tbody tr th:only-of-type {\n",
       "        vertical-align: middle;\n",
       "    }\n",
       "\n",
       "    .dataframe tbody tr th {\n",
       "        vertical-align: top;\n",
       "    }\n",
       "\n",
       "    .dataframe thead th {\n",
       "        text-align: right;\n",
       "    }\n",
       "</style>\n",
       "<table border=\"1\" class=\"dataframe\">\n",
       "  <thead>\n",
       "    <tr style=\"text-align: right;\">\n",
       "      <th>col_0</th>\n",
       "      <th>0.0</th>\n",
       "      <th>1.0</th>\n",
       "      <th>2.0</th>\n",
       "    </tr>\n",
       "    <tr>\n",
       "      <th>cluster</th>\n",
       "      <th></th>\n",
       "      <th></th>\n",
       "      <th></th>\n",
       "    </tr>\n",
       "  </thead>\n",
       "  <tbody>\n",
       "    <tr>\n",
       "      <th>1</th>\n",
       "      <td>89</td>\n",
       "      <td>0</td>\n",
       "      <td>0</td>\n",
       "    </tr>\n",
       "    <tr>\n",
       "      <th>2</th>\n",
       "      <td>4</td>\n",
       "      <td>96</td>\n",
       "      <td>0</td>\n",
       "    </tr>\n",
       "    <tr>\n",
       "      <th>3</th>\n",
       "      <td>8</td>\n",
       "      <td>3</td>\n",
       "      <td>86</td>\n",
       "    </tr>\n",
       "    <tr>\n",
       "      <th>4</th>\n",
       "      <td>0</td>\n",
       "      <td>20</td>\n",
       "      <td>94</td>\n",
       "    </tr>\n",
       "  </tbody>\n",
       "</table>\n",
       "</div>"
      ],
      "text/plain": [
       "col_0    0.0  1.0  2.0\n",
       "cluster               \n",
       "1         89    0    0\n",
       "2          4   96    0\n",
       "3          8    3   86\n",
       "4          0   20   94"
      ]
     },
     "execution_count": 227,
     "metadata": {},
     "output_type": "execute_result"
    }
   ],
   "source": [
    "pd.crosstab(tCluster,clusters)"
   ]
  },
  {
   "cell_type": "markdown",
   "metadata": {},
   "source": [
    "## Compare between K=3 and K=4\n",
    "Changing the parameters does change the result. The clusters when k = 3 are worse than the clusters when k = 4.\n",
    "\n",
    "The proportion of SSB in TSS in K=3 is 89% and in K=4 is 95%, which means there is more cohesion in the clusters and more separation between clusters when k=4. \n",
    "\n",
    "The SSB is decreased by 5.7 and SSE Total is increased by 3.67"
   ]
  },
  {
   "cell_type": "code",
   "execution_count": 249,
   "metadata": {},
   "outputs": [
    {
     "name": "stdout",
     "output_type": "stream",
     "text": [
      "5.699823952979671\n",
      "3.672571973140359\n"
     ]
    }
   ],
   "source": [
    "print(SSB4-SSB3)\n",
    "print(SSE3Total-SSE4Total)"
   ]
  },
  {
   "cell_type": "code",
   "execution_count": null,
   "metadata": {},
   "outputs": [],
   "source": []
  }
 ],
 "metadata": {
  "kernelspec": {
   "display_name": "Python 3",
   "language": "python",
   "name": "python3"
  },
  "language_info": {
   "codemirror_mode": {
    "name": "ipython",
    "version": 3
   },
   "file_extension": ".py",
   "mimetype": "text/x-python",
   "name": "python",
   "nbconvert_exporter": "python",
   "pygments_lexer": "ipython3",
   "version": "3.7.0"
  }
 },
 "nbformat": 4,
 "nbformat_minor": 2
}
